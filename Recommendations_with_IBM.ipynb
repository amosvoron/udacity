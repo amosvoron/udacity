{
 "cells": [
  {
   "cell_type": "markdown",
   "metadata": {},
   "source": [
    "# Recommendations with IBM\n",
    "\n",
    "In this notebook, you will be putting your recommendation skills to use on real data from the IBM Watson Studio platform. \n",
    "\n",
    "\n",
    "You may either submit your notebook through the workspace here, or you may work from your local machine and submit through the next page.  Either way assure that your code passes the project [RUBRIC](https://review.udacity.com/#!/rubrics/2322/view).  **Please save regularly.**\n",
    "\n",
    "By following the table of contents, you will build out a number of different methods for making recommendations that can be used for different situations. \n",
    "\n",
    "\n",
    "## Table of Contents\n",
    "\n",
    "I. [Exploratory Data Analysis](#Exploratory-Data-Analysis)<br>\n",
    "II. [Rank Based Recommendations](#Rank)<br>\n",
    "III. [User-User Based Collaborative Filtering](#User-User)<br>\n",
    "IV. [Content Based Recommendations (EXTRA - NOT REQUIRED)](#Content-Recs)<br>\n",
    "V. [Matrix Factorization](#Matrix-Fact)<br>\n",
    "VI. [Extras & Concluding](#conclusions)\n",
    "\n",
    "At the end of the notebook, you will find directions for how to submit your work.  Let's get started by importing the necessary libraries and reading in the data."
   ]
  },
  {
   "cell_type": "code",
   "execution_count": 29,
   "metadata": {},
   "outputs": [
    {
     "data": {
      "text/html": [
       "<div>\n",
       "<style scoped>\n",
       "    .dataframe tbody tr th:only-of-type {\n",
       "        vertical-align: middle;\n",
       "    }\n",
       "\n",
       "    .dataframe tbody tr th {\n",
       "        vertical-align: top;\n",
       "    }\n",
       "\n",
       "    .dataframe thead th {\n",
       "        text-align: right;\n",
       "    }\n",
       "</style>\n",
       "<table border=\"1\" class=\"dataframe\">\n",
       "  <thead>\n",
       "    <tr style=\"text-align: right;\">\n",
       "      <th></th>\n",
       "      <th>article_id</th>\n",
       "      <th>title</th>\n",
       "      <th>email</th>\n",
       "    </tr>\n",
       "  </thead>\n",
       "  <tbody>\n",
       "    <tr>\n",
       "      <th>0</th>\n",
       "      <td>1430.0</td>\n",
       "      <td>using pixiedust for fast, flexible, and easier...</td>\n",
       "      <td>ef5f11f77ba020cd36e1105a00ab868bbdbf7fe7</td>\n",
       "    </tr>\n",
       "    <tr>\n",
       "      <th>1</th>\n",
       "      <td>1314.0</td>\n",
       "      <td>healthcare python streaming application demo</td>\n",
       "      <td>083cbdfa93c8444beaa4c5f5e0f5f9198e4f9e0b</td>\n",
       "    </tr>\n",
       "    <tr>\n",
       "      <th>2</th>\n",
       "      <td>1429.0</td>\n",
       "      <td>use deep learning for image classification</td>\n",
       "      <td>b96a4f2e92d8572034b1e9b28f9ac673765cd074</td>\n",
       "    </tr>\n",
       "    <tr>\n",
       "      <th>3</th>\n",
       "      <td>1338.0</td>\n",
       "      <td>ml optimization using cognitive assistant</td>\n",
       "      <td>06485706b34a5c9bf2a0ecdac41daf7e7654ceb7</td>\n",
       "    </tr>\n",
       "    <tr>\n",
       "      <th>4</th>\n",
       "      <td>1276.0</td>\n",
       "      <td>deploy your python model as a restful api</td>\n",
       "      <td>f01220c46fc92c6e6b161b1849de11faacd7ccb2</td>\n",
       "    </tr>\n",
       "  </tbody>\n",
       "</table>\n",
       "</div>"
      ],
      "text/plain": [
       "   article_id                                              title  \\\n",
       "0      1430.0  using pixiedust for fast, flexible, and easier...   \n",
       "1      1314.0       healthcare python streaming application demo   \n",
       "2      1429.0         use deep learning for image classification   \n",
       "3      1338.0          ml optimization using cognitive assistant   \n",
       "4      1276.0          deploy your python model as a restful api   \n",
       "\n",
       "                                      email  \n",
       "0  ef5f11f77ba020cd36e1105a00ab868bbdbf7fe7  \n",
       "1  083cbdfa93c8444beaa4c5f5e0f5f9198e4f9e0b  \n",
       "2  b96a4f2e92d8572034b1e9b28f9ac673765cd074  \n",
       "3  06485706b34a5c9bf2a0ecdac41daf7e7654ceb7  \n",
       "4  f01220c46fc92c6e6b161b1849de11faacd7ccb2  "
      ]
     },
     "execution_count": 29,
     "metadata": {},
     "output_type": "execute_result"
    }
   ],
   "source": [
    "import pandas as pd\n",
    "import numpy as np\n",
    "import matplotlib.pyplot as plt\n",
    "import seaborn as sns\n",
    "import project_tests as t\n",
    "import pickle\n",
    "\n",
    "%matplotlib inline\n",
    "\n",
    "df_original = pd.read_csv('data/user-item-interactions.csv')\n",
    "df = df_original.copy()\n",
    "df_content = pd.read_csv('data/articles_community.csv')\n",
    "del df['Unnamed: 0']\n",
    "del df_content['Unnamed: 0']\n",
    "\n",
    "# Show df to get an idea of the data\n",
    "df.head()"
   ]
  },
  {
   "cell_type": "code",
   "execution_count": 30,
   "metadata": {},
   "outputs": [
    {
     "data": {
      "text/html": [
       "<div>\n",
       "<style scoped>\n",
       "    .dataframe tbody tr th:only-of-type {\n",
       "        vertical-align: middle;\n",
       "    }\n",
       "\n",
       "    .dataframe tbody tr th {\n",
       "        vertical-align: top;\n",
       "    }\n",
       "\n",
       "    .dataframe thead th {\n",
       "        text-align: right;\n",
       "    }\n",
       "</style>\n",
       "<table border=\"1\" class=\"dataframe\">\n",
       "  <thead>\n",
       "    <tr style=\"text-align: right;\">\n",
       "      <th></th>\n",
       "      <th>doc_body</th>\n",
       "      <th>doc_description</th>\n",
       "      <th>doc_full_name</th>\n",
       "      <th>doc_status</th>\n",
       "      <th>article_id</th>\n",
       "    </tr>\n",
       "  </thead>\n",
       "  <tbody>\n",
       "    <tr>\n",
       "      <th>0</th>\n",
       "      <td>Skip navigation Sign in SearchLoading...\\r\\n\\r...</td>\n",
       "      <td>Detect bad readings in real time using Python ...</td>\n",
       "      <td>Detect Malfunctioning IoT Sensors with Streami...</td>\n",
       "      <td>Live</td>\n",
       "      <td>0</td>\n",
       "    </tr>\n",
       "    <tr>\n",
       "      <th>1</th>\n",
       "      <td>No Free Hunch Navigation * kaggle.com\\r\\n\\r\\n ...</td>\n",
       "      <td>See the forest, see the trees. Here lies the c...</td>\n",
       "      <td>Communicating data science: A guide to present...</td>\n",
       "      <td>Live</td>\n",
       "      <td>1</td>\n",
       "    </tr>\n",
       "    <tr>\n",
       "      <th>2</th>\n",
       "      <td>☰ * Login\\r\\n * Sign Up\\r\\n\\r\\n * Learning Pat...</td>\n",
       "      <td>Here’s this week’s news in Data Science and Bi...</td>\n",
       "      <td>This Week in Data Science (April 18, 2017)</td>\n",
       "      <td>Live</td>\n",
       "      <td>2</td>\n",
       "    </tr>\n",
       "    <tr>\n",
       "      <th>3</th>\n",
       "      <td>DATALAYER: HIGH THROUGHPUT, LOW LATENCY AT SCA...</td>\n",
       "      <td>Learn how distributed DBs solve the problem of...</td>\n",
       "      <td>DataLayer Conference: Boost the performance of...</td>\n",
       "      <td>Live</td>\n",
       "      <td>3</td>\n",
       "    </tr>\n",
       "    <tr>\n",
       "      <th>4</th>\n",
       "      <td>Skip navigation Sign in SearchLoading...\\r\\n\\r...</td>\n",
       "      <td>This video demonstrates the power of IBM DataS...</td>\n",
       "      <td>Analyze NY Restaurant data using Spark in DSX</td>\n",
       "      <td>Live</td>\n",
       "      <td>4</td>\n",
       "    </tr>\n",
       "  </tbody>\n",
       "</table>\n",
       "</div>"
      ],
      "text/plain": [
       "                                            doc_body  \\\n",
       "0  Skip navigation Sign in SearchLoading...\\r\\n\\r...   \n",
       "1  No Free Hunch Navigation * kaggle.com\\r\\n\\r\\n ...   \n",
       "2  ☰ * Login\\r\\n * Sign Up\\r\\n\\r\\n * Learning Pat...   \n",
       "3  DATALAYER: HIGH THROUGHPUT, LOW LATENCY AT SCA...   \n",
       "4  Skip navigation Sign in SearchLoading...\\r\\n\\r...   \n",
       "\n",
       "                                     doc_description  \\\n",
       "0  Detect bad readings in real time using Python ...   \n",
       "1  See the forest, see the trees. Here lies the c...   \n",
       "2  Here’s this week’s news in Data Science and Bi...   \n",
       "3  Learn how distributed DBs solve the problem of...   \n",
       "4  This video demonstrates the power of IBM DataS...   \n",
       "\n",
       "                                       doc_full_name doc_status  article_id  \n",
       "0  Detect Malfunctioning IoT Sensors with Streami...       Live           0  \n",
       "1  Communicating data science: A guide to present...       Live           1  \n",
       "2         This Week in Data Science (April 18, 2017)       Live           2  \n",
       "3  DataLayer Conference: Boost the performance of...       Live           3  \n",
       "4      Analyze NY Restaurant data using Spark in DSX       Live           4  "
      ]
     },
     "execution_count": 30,
     "metadata": {},
     "output_type": "execute_result"
    }
   ],
   "source": [
    "# Show df_content to get an idea of the data\n",
    "df_content.head()"
   ]
  },
  {
   "cell_type": "code",
   "execution_count": 31,
   "metadata": {},
   "outputs": [
    {
     "name": "stdout",
     "output_type": "stream",
     "text": [
      "Shape of df: (45993, 3)\n",
      "Shape of df_content: (1056, 5)\n"
     ]
    }
   ],
   "source": [
    "print(f'Shape of df: {df.shape}')\n",
    "print(f'Shape of df_content: {df_content.shape}')"
   ]
  },
  {
   "cell_type": "markdown",
   "metadata": {},
   "source": [
    "### <a class=\"anchor\" id=\"Exploratory-Data-Analysis\">Part I : Exploratory Data Analysis</a>\n",
    "\n",
    "Use the dictionary and cells below to provide some insight into the descriptive statistics of the data.\n",
    "\n",
    "`1.` What is the distribution of how many articles a user interacts with in the dataset?  Provide a visual and descriptive statistics to assist with giving a look at the number of times each user interacts with an article.  "
   ]
  },
  {
   "cell_type": "code",
   "execution_count": 82,
   "metadata": {},
   "outputs": [],
   "source": [
    "# Common plot functions\n",
    "\n",
    "def plot_hist(data, title, xlabel, ylabel, bins=100):\n",
    "    '''\n",
    "    Plots the histogram.\n",
    "    \n",
    "    INPUT:\n",
    "    data - (pandas series) input data to plot\n",
    "    title - (pandas dataframe) title of histogram\n",
    "    xlabel - (string) label of x-axis\n",
    "    ylabel - (string) label of y-axis\n",
    "    bins - (int) number of histogram's bins   \n",
    "    '''\n",
    "    plt.figure(figsize = (20,4))\n",
    "    plt.hist(data, facecolor='orange', edgecolor='white', bins=bins)\n",
    "    plt.title(title)\n",
    "    plt.xlabel(xlabel)\n",
    "    plt.ylabel(ylabel)\n",
    "    plt.show()\n",
    "    \n",
    "    \n",
    "def plot_boxplot(data):\n",
    "    '''\n",
    "    Plots the boxplot.\n",
    "    \n",
    "    INPUT:\n",
    "    data - (pandas series) input data to plot    \n",
    "    '''\n",
    "    plt.figure(figsize=(30,3))\n",
    "    sns.set(style=\"whitegrid\")\n",
    "    ax = sns.boxplot(x=data)\n",
    "    "
   ]
  },
  {
   "cell_type": "markdown",
   "metadata": {},
   "source": [
    "### User-article interactions"
   ]
  },
  {
   "cell_type": "code",
   "execution_count": 72,
   "metadata": {},
   "outputs": [
    {
     "data": {
      "text/plain": [
       "count    5148.000000\n",
       "mean        8.930847\n",
       "std        16.802267\n",
       "min         1.000000\n",
       "25%         1.000000\n",
       "50%         3.000000\n",
       "75%         9.000000\n",
       "max       364.000000\n",
       "Name: email, dtype: float64"
      ]
     },
     "execution_count": 72,
     "metadata": {},
     "output_type": "execute_result"
    }
   ],
   "source": [
    "# The number of times each user interacts with an article.\n",
    "user_interacts = df['email'].value_counts()\n",
    "user_interacts.describe()"
   ]
  },
  {
   "cell_type": "code",
   "execution_count": 80,
   "metadata": {},
   "outputs": [
    {
     "data": {
      "image/png": "[encoded data removed]",
      "text/plain": [
       "<matplotlib.figure.Figure at 0x7f71336de7b8>"
      ]
     },
     "metadata": {},
     "output_type": "display_data"
    }
   ],
   "source": [
    "# Histogram of distribution of user-article interactions\n",
    "plot_hist(user_interacts, 'User-article interactions', 'Number of interactions', 'Number of users')"
   ]
  },
  {
   "cell_type": "code",
   "execution_count": 83,
   "metadata": {},
   "outputs": [
    {
     "data": {
      "image/png": "[encoded data removed]",
      "text/plain": [
       "<matplotlib.figure.Figure at 0x7f7133d107b8>"
      ]
     },
     "metadata": {},
     "output_type": "display_data"
    }
   ],
   "source": [
    "# Boxplot of distribution of user-article interactions\n",
    "plot_boxplot(user_interacts)"
   ]
  },
  {
   "cell_type": "code",
   "execution_count": 87,
   "metadata": {},
   "outputs": [
    {
     "name": "stdout",
     "output_type": "stream",
     "text": [
      "mean: 8.930846930846931\n",
      "median: 3.0\n",
      "mode: 1\n"
     ]
    }
   ],
   "source": [
    "print(f'mean: {user_interacts.mean()}')\n",
    "print(f'median: {user_interacts.median()}')\n",
    "print(f'mode: {user_interacts.mode()[0]}')"
   ]
  },
  {
   "cell_type": "markdown",
   "metadata": {},
   "source": [
    "### Summary on user-article interactions\n",
    "\n",
    "The interactions has the lower bound of 1 - user interacts with a single article - which is also *the most frequent* interaction type in our dataset (*mode = 1*). More the number of interactions grows less users interacts. The relations between the statistical values of **mean**, **median**, and **mode** can be expressed as:\n",
    "\n",
    "    mean > median > mode\n",
    "    \n",
    "We can see that the distribution of the user-article interactions is extremely **right-skewed**. This type of distribution will introduce great level of randomness when calculating similarity between the users: the users with few interactions have *few matching points*, consequently, the similarity of these users turns out to be very random.    "
   ]
  },
  {
   "cell_type": "markdown",
   "metadata": {},
   "source": [
    "### Article-user interactions"
   ]
  },
  {
   "cell_type": "code",
   "execution_count": 77,
   "metadata": {},
   "outputs": [
    {
     "data": {
      "text/plain": [
       "count    714.000000\n",
       "mean      64.415966\n",
       "std      109.175923\n",
       "min        1.000000\n",
       "25%        8.000000\n",
       "50%       25.000000\n",
       "75%       69.000000\n",
       "max      937.000000\n",
       "Name: article_id, dtype: float64"
      ]
     },
     "execution_count": 77,
     "metadata": {},
     "output_type": "execute_result"
    }
   ],
   "source": [
    "# The number of times each article interacts with a user.\n",
    "article_interacts = df['article_id'].value_counts()\n",
    "article_interacts.describe()"
   ]
  },
  {
   "cell_type": "code",
   "execution_count": 85,
   "metadata": {},
   "outputs": [
    {
     "data": {
      "image/png": "[encoded data removed]",
      "text/plain": [
       "<matplotlib.figure.Figure at 0x7f7133f11b00>"
      ]
     },
     "metadata": {},
     "output_type": "display_data"
    }
   ],
   "source": [
    "# Histogram of distribution of user-article interactions\n",
    "plot_hist(article_interacts, 'Article-user interactions', 'Number of interactions', 'Number of articles')"
   ]
  },
  {
   "cell_type": "code",
   "execution_count": 86,
   "metadata": {},
   "outputs": [
    {
     "data": {
      "image/png": "[encoded data removed]",
      "text/plain": [
       "<matplotlib.figure.Figure at 0x7f7133d10908>"
      ]
     },
     "metadata": {},
     "output_type": "display_data"
    }
   ],
   "source": [
    "# Boxplot of distribution of article-user interactions\n",
    "plot_boxplot(article_interacts)"
   ]
  },
  {
   "cell_type": "code",
   "execution_count": 89,
   "metadata": {},
   "outputs": [
    {
     "name": "stdout",
     "output_type": "stream",
     "text": [
      "mean: 64.41596638655462\n",
      "median: 25.0\n",
      "mode: 2\n"
     ]
    }
   ],
   "source": [
    "print(f'mean: {article_interacts.mean()}')\n",
    "print(f'median: {article_interacts.median()}')\n",
    "print(f'mode: {article_interacts.mode()[0]}')"
   ]
  },
  {
   "cell_type": "markdown",
   "metadata": {},
   "source": [
    "### Summary on article-user interactions\n",
    "\n",
    "The distribution of article-user interactions is **right-skewed** too but slightly less extreme than with the user-article interactions. This distribution will have less impact on our project since it has very limited influence on rank-based recommendations and user-user collaboration. \n"
   ]
  },
  {
   "cell_type": "markdown",
   "metadata": {},
   "source": [
    "### Missing values"
   ]
  },
  {
   "cell_type": "code",
   "execution_count": 114,
   "metadata": {},
   "outputs": [
    {
     "name": "stdout",
     "output_type": "stream",
     "text": [
      "-------------------------------------\n",
      "  [df] - Missing values per columns\n",
      "-------------------------------------\n",
      "Dataset row count: 45993\n",
      "article_id     0\n",
      "title          0\n",
      "email         17\n",
      "dtype: int64\n"
     ]
    }
   ],
   "source": [
    "print('-------------------------------------')\n",
    "print('  [df] - Missing values per columns')\n",
    "print('-------------------------------------')\n",
    "print(f'Dataset row count: {df.shape[0]}')\n",
    "print(df.isnull().sum())"
   ]
  },
  {
   "cell_type": "code",
   "execution_count": 115,
   "metadata": {},
   "outputs": [
    {
     "name": "stdout",
     "output_type": "stream",
     "text": [
      "---------------------------------------------\n",
      "  [df_content] - Missing values per columns\n",
      "---------------------------------------------\n",
      "Dataset row count: 1056\n",
      "doc_body           14\n",
      "doc_description     3\n",
      "doc_full_name       0\n",
      "doc_status          0\n",
      "article_id          0\n",
      "dtype: int64\n"
     ]
    }
   ],
   "source": [
    "print('---------------------------------------------')\n",
    "print('  [df_content] - Missing values per columns')\n",
    "print('---------------------------------------------')\n",
    "print(f'Dataset row count: {df_content.shape[0]}')\n",
    "print(df_content.isnull().sum())"
   ]
  },
  {
   "cell_type": "markdown",
   "metadata": {},
   "source": [
    "### Data referential integrity check\n",
    "\n",
    "Let's check if the data sets can be joined proiperly by the key - **article_id**. "
   ]
  },
  {
   "cell_type": "code",
   "execution_count": 174,
   "metadata": {},
   "outputs": [
    {
     "name": "stdout",
     "output_type": "stream",
     "text": [
      "Count of df: 45993\n",
      "Count of df1: 33682\n"
     ]
    }
   ],
   "source": [
    "# [df -> df1]\n",
    "df1 = df[['email', 'article_id']].copy()\n",
    "df1 = df1.drop_duplicates()\n",
    "print(f'Count of df: {df.shape[0]}') \n",
    "print(f'Count of df1: {df1.shape[0]}')"
   ]
  },
  {
   "cell_type": "code",
   "execution_count": 176,
   "metadata": {},
   "outputs": [
    {
     "name": "stdout",
     "output_type": "stream",
     "text": [
      "Count of df_content: 1056\n",
      "Count of df2: 1051\n"
     ]
    }
   ],
   "source": [
    "# [df_content -> df2]\n",
    "df2 = df_content['article_id']\n",
    "df2 = df2.drop_duplicates()\n",
    "print(f'Count of df_content: {df_content.shape[0]}') \n",
    "print(f'Count of df2: {df2.shape[0]}')"
   ]
  },
  {
   "cell_type": "code",
   "execution_count": 182,
   "metadata": {},
   "outputs": [],
   "source": [
    "# left outer join df by df_content\n",
    "left_joined = df1.join(df2, on='article_id', rsuffix='_content')"
   ]
  },
  {
   "cell_type": "code",
   "execution_count": 183,
   "metadata": {},
   "outputs": [
    {
     "data": {
      "text/plain": [
       "email                    13\n",
       "article_id                0\n",
       "article_id_content    15208\n",
       "dtype: int64"
      ]
     },
     "execution_count": 183,
     "metadata": {},
     "output_type": "execute_result"
    }
   ],
   "source": [
    "# Check if any non-paired articles\n",
    "left_joined.isnull().sum()"
   ]
  },
  {
   "cell_type": "code",
   "execution_count": 204,
   "metadata": {},
   "outputs": [
    {
     "name": "stdout",
     "output_type": "stream",
     "text": [
      "Number of non-existing articles: 274\n",
      "-----------------------------------------------------------------------\n",
      "[  692.   761.  1056.  1057.  1058.  1059.  1060.  1061.  1062.  1063.\n",
      "  1064.  1065.  1066.  1067.  1068.  1069.  1070.  1071.  1072.  1073.\n",
      "  1074.  1075.  1077.  1078.  1079.  1080.  1083.  1084.  1085.  1086.\n",
      "  1089.  1091.  1092.  1097.  1101.  1106.  1108.  1112.  1113.  1114.\n",
      "  1116.  1119.  1120.  1121.  1122.  1123.  1124.  1125.  1127.  1128.\n",
      "  1130.  1134.  1135.  1137.  1138.  1139.  1140.  1141.  1142.  1143.\n",
      "  1144.  1145.  1146.  1147.  1148.  1149.  1150.  1151.  1152.  1153.\n",
      "  1154.  1155.  1156.  1157.  1158.  1159.  1160.  1161.  1162.  1163.\n",
      "  1164.  1165.  1166.  1167.  1168.  1169.  1170.  1171.  1172.  1173.\n",
      "  1174.  1175.  1176.  1177.  1178.  1179.  1180.  1181.  1183.  1184.\n",
      "  1185.  1186.  1187.  1188.  1189.  1190.  1191.  1192.  1195.  1196.\n",
      "  1197.  1198.  1199.  1200.  1202.  1203.  1206.  1208.  1210.  1219.\n",
      "  1221.  1225.  1226.  1227.  1228.  1230.  1232.  1233.  1234.  1235.\n",
      "  1237.  1244.  1247.  1251.  1252.  1253.  1254.  1257.  1260.  1261.\n",
      "  1263.  1266.  1267.  1271.  1273.  1274.  1276.  1277.  1278.  1279.\n",
      "  1280.  1281.  1282.  1283.  1285.  1286.  1289.  1290.  1291.  1292.\n",
      "  1293.  1294.  1295.  1296.  1297.  1298.  1299.  1303.  1304.  1305.\n",
      "  1306.  1307.  1308.  1313.  1314.  1315.  1317.  1318.  1319.  1320.\n",
      "  1321.  1324.  1326.  1328.  1329.  1330.  1331.  1332.  1333.  1334.\n",
      "  1335.  1336.  1337.  1338.  1340.  1343.  1344.  1346.  1348.  1349.\n",
      "  1350.  1351.  1354.  1355.  1356.  1357.  1358.  1359.  1360.  1361.\n",
      "  1362.  1363.  1364.  1365.  1366.  1367.  1368.  1369.  1371.  1372.\n",
      "  1377.  1378.  1386.  1387.  1390.  1391.  1393.  1394.  1395.  1396.\n",
      "  1397.  1398.  1400.  1401.  1402.  1403.  1404.  1405.  1406.  1407.\n",
      "  1408.  1409.  1410.  1411.  1412.  1414.  1415.  1416.  1418.  1419.\n",
      "  1420.  1421.  1422.  1423.  1424.  1425.  1426.  1427.  1428.  1429.\n",
      "  1430.  1431.  1432.  1433.  1434.  1435.  1436.  1437.  1439.  1440.\n",
      "  1441.  1442.  1443.  1444.]\n"
     ]
    }
   ],
   "source": [
    "# Select non-paired articles\n",
    "non_existing_articles = left_joined[left_joined['article_id_content'].isnull()]['article_id'].unique()\n",
    "print(f'Number of non-existing articles: {len(non_existing_articles)}')\n",
    "print('-----------------------------------------------------------------------')\n",
    "print(np.sort(non_existing_articles))"
   ]
  },
  {
   "cell_type": "code",
   "execution_count": 210,
   "metadata": {},
   "outputs": [
    {
     "name": "stdout",
     "output_type": "stream",
     "text": [
      "article_id    67\n",
      "title         67\n",
      "email         67\n",
      "dtype: int64\n",
      "doc_body           1\n",
      "doc_description    1\n",
      "doc_full_name      1\n",
      "doc_status         1\n",
      "article_id         1\n",
      "dtype: int64\n"
     ]
    }
   ],
   "source": [
    "# Example on a non-existing articles (first article from the list - 692.0)\n",
    "sample = 692.0\n",
    "print(df[df['article_id'] == sample].count())\n",
    "print(df_content[df_content['article_id'] == sample].count())"
   ]
  },
  {
   "cell_type": "code",
   "execution_count": 211,
   "metadata": {},
   "outputs": [
    {
     "data": {
      "text/html": [
       "<div>\n",
       "<style scoped>\n",
       "    .dataframe tbody tr th:only-of-type {\n",
       "        vertical-align: middle;\n",
       "    }\n",
       "\n",
       "    .dataframe tbody tr th {\n",
       "        vertical-align: top;\n",
       "    }\n",
       "\n",
       "    .dataframe thead th {\n",
       "        text-align: right;\n",
       "    }\n",
       "</style>\n",
       "<table border=\"1\" class=\"dataframe\">\n",
       "  <thead>\n",
       "    <tr style=\"text-align: right;\">\n",
       "      <th></th>\n",
       "      <th>doc_body</th>\n",
       "      <th>doc_description</th>\n",
       "      <th>doc_full_name</th>\n",
       "      <th>doc_status</th>\n",
       "      <th>article_id</th>\n",
       "    </tr>\n",
       "  </thead>\n",
       "  <tbody>\n",
       "    <tr>\n",
       "      <th>694</th>\n",
       "      <td>Skip to content * Unix\\r\\n * R\\r\\n\\r\\n15 PAGE ...</td>\n",
       "      <td>For Beginners in R, here is a 15 page example ...</td>\n",
       "      <td>15 Page Tutorial for R</td>\n",
       "      <td>Live</td>\n",
       "      <td>692</td>\n",
       "    </tr>\n",
       "  </tbody>\n",
       "</table>\n",
       "</div>"
      ],
      "text/plain": [
       "                                              doc_body  \\\n",
       "694  Skip to content * Unix\\r\\n * R\\r\\n\\r\\n15 PAGE ...   \n",
       "\n",
       "                                       doc_description  \\\n",
       "694  For Beginners in R, here is a 15 page example ...   \n",
       "\n",
       "              doc_full_name doc_status  article_id  \n",
       "694  15 Page Tutorial for R       Live         692  "
      ]
     },
     "execution_count": 211,
     "metadata": {},
     "output_type": "execute_result"
    }
   ],
   "source": [
    "df_content[df_content['article_id'] == sample]"
   ]
  },
  {
   "cell_type": "code",
   "execution_count": 168,
   "metadata": {},
   "outputs": [
    {
     "data": {
      "text/plain": [
       "article_id            33682\n",
       "title                 33682\n",
       "email                 33669\n",
       "doc_body              18244\n",
       "doc_description       18436\n",
       "doc_full_name         18474\n",
       "doc_status            18474\n",
       "article_id_content    18474\n",
       "dtype: int64"
      ]
     },
     "execution_count": 168,
     "metadata": {},
     "output_type": "execute_result"
    }
   ],
   "source": [
    "df1.join(df2, on='article_id', rsuffix='_content').count()"
   ]
  },
  {
   "cell_type": "code",
   "execution_count": 148,
   "metadata": {
    "scrolled": true
   },
   "outputs": [
    {
     "data": {
      "text/html": [
       "<div>\n",
       "<style scoped>\n",
       "    .dataframe tbody tr th:only-of-type {\n",
       "        vertical-align: middle;\n",
       "    }\n",
       "\n",
       "    .dataframe tbody tr th {\n",
       "        vertical-align: top;\n",
       "    }\n",
       "\n",
       "    .dataframe thead th {\n",
       "        text-align: right;\n",
       "    }\n",
       "</style>\n",
       "<table border=\"1\" class=\"dataframe\">\n",
       "  <thead>\n",
       "    <tr style=\"text-align: right;\">\n",
       "      <th></th>\n",
       "      <th>article_id</th>\n",
       "      <th>title</th>\n",
       "      <th>email</th>\n",
       "    </tr>\n",
       "  </thead>\n",
       "  <tbody>\n",
       "    <tr>\n",
       "      <th>41629</th>\n",
       "      <td>1429.0</td>\n",
       "      <td>use deep learning for image classification</td>\n",
       "      <td>011fcfb582be9534e9a275336f7e7c3717100381</td>\n",
       "    </tr>\n",
       "    <tr>\n",
       "      <th>7892</th>\n",
       "      <td>1429.0</td>\n",
       "      <td>use deep learning for image classification</td>\n",
       "      <td>0129dfcdb701b6e1d309934be6393004c6683a2d</td>\n",
       "    </tr>\n",
       "    <tr>\n",
       "      <th>30552</th>\n",
       "      <td>1429.0</td>\n",
       "      <td>use deep learning for image classification</td>\n",
       "      <td>015aaf617598e413a35d6d2249e26b7f3c40adb7</td>\n",
       "    </tr>\n",
       "    <tr>\n",
       "      <th>33896</th>\n",
       "      <td>1429.0</td>\n",
       "      <td>use deep learning for image classification</td>\n",
       "      <td>020c5d8ac29cb133c5bac74b27662a3a2c2065fd</td>\n",
       "    </tr>\n",
       "    <tr>\n",
       "      <th>3274</th>\n",
       "      <td>1429.0</td>\n",
       "      <td>use deep learning for image classification</td>\n",
       "      <td>02d1b427e745f1681458b0af149d7dffab546abe</td>\n",
       "    </tr>\n",
       "    <tr>\n",
       "      <th>14444</th>\n",
       "      <td>1429.0</td>\n",
       "      <td>use deep learning for image classification</td>\n",
       "      <td>02d1b427e745f1681458b0af149d7dffab546abe</td>\n",
       "    </tr>\n",
       "    <tr>\n",
       "      <th>35765</th>\n",
       "      <td>1429.0</td>\n",
       "      <td>use deep learning for image classification</td>\n",
       "      <td>03ce3a90c516eba9556e04002ebd733275a36f71</td>\n",
       "    </tr>\n",
       "    <tr>\n",
       "      <th>29589</th>\n",
       "      <td>1429.0</td>\n",
       "      <td>use deep learning for image classification</td>\n",
       "      <td>0447177dcc9df02c6654fabed04f4299a0313b6b</td>\n",
       "    </tr>\n",
       "    <tr>\n",
       "      <th>29592</th>\n",
       "      <td>1429.0</td>\n",
       "      <td>use deep learning for image classification</td>\n",
       "      <td>0447177dcc9df02c6654fabed04f4299a0313b6b</td>\n",
       "    </tr>\n",
       "    <tr>\n",
       "      <th>29593</th>\n",
       "      <td>1429.0</td>\n",
       "      <td>use deep learning for image classification</td>\n",
       "      <td>0447177dcc9df02c6654fabed04f4299a0313b6b</td>\n",
       "    </tr>\n",
       "    <tr>\n",
       "      <th>9384</th>\n",
       "      <td>1429.0</td>\n",
       "      <td>use deep learning for image classification</td>\n",
       "      <td>050ea3d5d920c6781ac04aa3ce05bc0a6049723b</td>\n",
       "    </tr>\n",
       "    <tr>\n",
       "      <th>7931</th>\n",
       "      <td>1429.0</td>\n",
       "      <td>use deep learning for image classification</td>\n",
       "      <td>063adc1a060228137612dc513f6cd4f27373f1fb</td>\n",
       "    </tr>\n",
       "    <tr>\n",
       "      <th>29218</th>\n",
       "      <td>1429.0</td>\n",
       "      <td>use deep learning for image classification</td>\n",
       "      <td>06cd4264073c9a2a83128090ef728e006d0e7391</td>\n",
       "    </tr>\n",
       "    <tr>\n",
       "      <th>23650</th>\n",
       "      <td>1429.0</td>\n",
       "      <td>use deep learning for image classification</td>\n",
       "      <td>071ea7e6de69b2c78ce52d2e1954ccbd19886990</td>\n",
       "    </tr>\n",
       "    <tr>\n",
       "      <th>1249</th>\n",
       "      <td>1429.0</td>\n",
       "      <td>use deep learning for image classification</td>\n",
       "      <td>071ea7e6de69b2c78ce52d2e1954ccbd19886990</td>\n",
       "    </tr>\n",
       "    <tr>\n",
       "      <th>1025</th>\n",
       "      <td>1429.0</td>\n",
       "      <td>use deep learning for image classification</td>\n",
       "      <td>071ea7e6de69b2c78ce52d2e1954ccbd19886990</td>\n",
       "    </tr>\n",
       "    <tr>\n",
       "      <th>18306</th>\n",
       "      <td>1429.0</td>\n",
       "      <td>use deep learning for image classification</td>\n",
       "      <td>071ea7e6de69b2c78ce52d2e1954ccbd19886990</td>\n",
       "    </tr>\n",
       "    <tr>\n",
       "      <th>10495</th>\n",
       "      <td>1429.0</td>\n",
       "      <td>use deep learning for image classification</td>\n",
       "      <td>071ea7e6de69b2c78ce52d2e1954ccbd19886990</td>\n",
       "    </tr>\n",
       "    <tr>\n",
       "      <th>23369</th>\n",
       "      <td>1429.0</td>\n",
       "      <td>use deep learning for image classification</td>\n",
       "      <td>071ea7e6de69b2c78ce52d2e1954ccbd19886990</td>\n",
       "    </tr>\n",
       "    <tr>\n",
       "      <th>1412</th>\n",
       "      <td>1429.0</td>\n",
       "      <td>use deep learning for image classification</td>\n",
       "      <td>071ea7e6de69b2c78ce52d2e1954ccbd19886990</td>\n",
       "    </tr>\n",
       "    <tr>\n",
       "      <th>12079</th>\n",
       "      <td>1429.0</td>\n",
       "      <td>use deep learning for image classification</td>\n",
       "      <td>071ea7e6de69b2c78ce52d2e1954ccbd19886990</td>\n",
       "    </tr>\n",
       "    <tr>\n",
       "      <th>18304</th>\n",
       "      <td>1429.0</td>\n",
       "      <td>use deep learning for image classification</td>\n",
       "      <td>071ea7e6de69b2c78ce52d2e1954ccbd19886990</td>\n",
       "    </tr>\n",
       "    <tr>\n",
       "      <th>23392</th>\n",
       "      <td>1429.0</td>\n",
       "      <td>use deep learning for image classification</td>\n",
       "      <td>073d60e1ca362759a230a4d01ed877b396015a26</td>\n",
       "    </tr>\n",
       "    <tr>\n",
       "      <th>23393</th>\n",
       "      <td>1429.0</td>\n",
       "      <td>use deep learning for image classification</td>\n",
       "      <td>073d60e1ca362759a230a4d01ed877b396015a26</td>\n",
       "    </tr>\n",
       "    <tr>\n",
       "      <th>23637</th>\n",
       "      <td>1429.0</td>\n",
       "      <td>use deep learning for image classification</td>\n",
       "      <td>073d60e1ca362759a230a4d01ed877b396015a26</td>\n",
       "    </tr>\n",
       "    <tr>\n",
       "      <th>34837</th>\n",
       "      <td>1429.0</td>\n",
       "      <td>use deep learning for image classification</td>\n",
       "      <td>080025211bfd70b795acb9ad8950b5748682ecb5</td>\n",
       "    </tr>\n",
       "    <tr>\n",
       "      <th>4563</th>\n",
       "      <td>1429.0</td>\n",
       "      <td>use deep learning for image classification</td>\n",
       "      <td>0acedc35a5f7b379845f425944566e63869811e9</td>\n",
       "    </tr>\n",
       "    <tr>\n",
       "      <th>44324</th>\n",
       "      <td>1429.0</td>\n",
       "      <td>use deep learning for image classification</td>\n",
       "      <td>0b25abd23f280de3242cc9c49e75ce94a03184e6</td>\n",
       "    </tr>\n",
       "    <tr>\n",
       "      <th>6708</th>\n",
       "      <td>1429.0</td>\n",
       "      <td>use deep learning for image classification</td>\n",
       "      <td>0bc364067d9e017f02c6efc7796f026df51e8b3d</td>\n",
       "    </tr>\n",
       "    <tr>\n",
       "      <th>5785</th>\n",
       "      <td>1429.0</td>\n",
       "      <td>use deep learning for image classification</td>\n",
       "      <td>0d644205ecefdef33e3346bb3551f5e68dc57c58</td>\n",
       "    </tr>\n",
       "    <tr>\n",
       "      <th>...</th>\n",
       "      <td>...</td>\n",
       "      <td>...</td>\n",
       "      <td>...</td>\n",
       "    </tr>\n",
       "    <tr>\n",
       "      <th>31848</th>\n",
       "      <td>1429.0</td>\n",
       "      <td>use deep learning for image classification</td>\n",
       "      <td>f6272b166b17ab581331ef873f361c9212f80545</td>\n",
       "    </tr>\n",
       "    <tr>\n",
       "      <th>31861</th>\n",
       "      <td>1429.0</td>\n",
       "      <td>use deep learning for image classification</td>\n",
       "      <td>f6272b166b17ab581331ef873f361c9212f80545</td>\n",
       "    </tr>\n",
       "    <tr>\n",
       "      <th>31860</th>\n",
       "      <td>1429.0</td>\n",
       "      <td>use deep learning for image classification</td>\n",
       "      <td>f6272b166b17ab581331ef873f361c9212f80545</td>\n",
       "    </tr>\n",
       "    <tr>\n",
       "      <th>13031</th>\n",
       "      <td>1429.0</td>\n",
       "      <td>use deep learning for image classification</td>\n",
       "      <td>f6b3f66192bb2d808d87fafe9a902ae2b493bbaa</td>\n",
       "    </tr>\n",
       "    <tr>\n",
       "      <th>5888</th>\n",
       "      <td>1429.0</td>\n",
       "      <td>use deep learning for image classification</td>\n",
       "      <td>f6b3f66192bb2d808d87fafe9a902ae2b493bbaa</td>\n",
       "    </tr>\n",
       "    <tr>\n",
       "      <th>40120</th>\n",
       "      <td>1429.0</td>\n",
       "      <td>use deep learning for image classification</td>\n",
       "      <td>f7dd42f94dabad5ed5a8f53db66ea269dcb91b58</td>\n",
       "    </tr>\n",
       "    <tr>\n",
       "      <th>39761</th>\n",
       "      <td>1429.0</td>\n",
       "      <td>use deep learning for image classification</td>\n",
       "      <td>f8c978bcf2ae2fb8885814a9b85ffef2f54c3c76</td>\n",
       "    </tr>\n",
       "    <tr>\n",
       "      <th>39697</th>\n",
       "      <td>1429.0</td>\n",
       "      <td>use deep learning for image classification</td>\n",
       "      <td>f8c978bcf2ae2fb8885814a9b85ffef2f54c3c76</td>\n",
       "    </tr>\n",
       "    <tr>\n",
       "      <th>8903</th>\n",
       "      <td>1429.0</td>\n",
       "      <td>use deep learning for image classification</td>\n",
       "      <td>f946db70babe252d0a5dc2056465aa295fe97baa</td>\n",
       "    </tr>\n",
       "    <tr>\n",
       "      <th>982</th>\n",
       "      <td>1429.0</td>\n",
       "      <td>use deep learning for image classification</td>\n",
       "      <td>fa0bd5a3a6956303722530f26854c8dd9f83dfd1</td>\n",
       "    </tr>\n",
       "    <tr>\n",
       "      <th>35019</th>\n",
       "      <td>1429.0</td>\n",
       "      <td>use deep learning for image classification</td>\n",
       "      <td>faea84d51984f197ea8fa550997f3dc5d5b542a4</td>\n",
       "    </tr>\n",
       "    <tr>\n",
       "      <th>36855</th>\n",
       "      <td>1429.0</td>\n",
       "      <td>use deep learning for image classification</td>\n",
       "      <td>fb882a39e938a9c7b7d6f13c8dba0e03898fbe31</td>\n",
       "    </tr>\n",
       "    <tr>\n",
       "      <th>36856</th>\n",
       "      <td>1429.0</td>\n",
       "      <td>use deep learning for image classification</td>\n",
       "      <td>fb882a39e938a9c7b7d6f13c8dba0e03898fbe31</td>\n",
       "    </tr>\n",
       "    <tr>\n",
       "      <th>36876</th>\n",
       "      <td>1429.0</td>\n",
       "      <td>use deep learning for image classification</td>\n",
       "      <td>fb882a39e938a9c7b7d6f13c8dba0e03898fbe31</td>\n",
       "    </tr>\n",
       "    <tr>\n",
       "      <th>36914</th>\n",
       "      <td>1429.0</td>\n",
       "      <td>use deep learning for image classification</td>\n",
       "      <td>fb882a39e938a9c7b7d6f13c8dba0e03898fbe31</td>\n",
       "    </tr>\n",
       "    <tr>\n",
       "      <th>36868</th>\n",
       "      <td>1429.0</td>\n",
       "      <td>use deep learning for image classification</td>\n",
       "      <td>fb882a39e938a9c7b7d6f13c8dba0e03898fbe31</td>\n",
       "    </tr>\n",
       "    <tr>\n",
       "      <th>36899</th>\n",
       "      <td>1429.0</td>\n",
       "      <td>use deep learning for image classification</td>\n",
       "      <td>fb882a39e938a9c7b7d6f13c8dba0e03898fbe31</td>\n",
       "    </tr>\n",
       "    <tr>\n",
       "      <th>36886</th>\n",
       "      <td>1429.0</td>\n",
       "      <td>use deep learning for image classification</td>\n",
       "      <td>fb882a39e938a9c7b7d6f13c8dba0e03898fbe31</td>\n",
       "    </tr>\n",
       "    <tr>\n",
       "      <th>36872</th>\n",
       "      <td>1429.0</td>\n",
       "      <td>use deep learning for image classification</td>\n",
       "      <td>fb882a39e938a9c7b7d6f13c8dba0e03898fbe31</td>\n",
       "    </tr>\n",
       "    <tr>\n",
       "      <th>36889</th>\n",
       "      <td>1429.0</td>\n",
       "      <td>use deep learning for image classification</td>\n",
       "      <td>fb882a39e938a9c7b7d6f13c8dba0e03898fbe31</td>\n",
       "    </tr>\n",
       "    <tr>\n",
       "      <th>36887</th>\n",
       "      <td>1429.0</td>\n",
       "      <td>use deep learning for image classification</td>\n",
       "      <td>fb882a39e938a9c7b7d6f13c8dba0e03898fbe31</td>\n",
       "    </tr>\n",
       "    <tr>\n",
       "      <th>36929</th>\n",
       "      <td>1429.0</td>\n",
       "      <td>use deep learning for image classification</td>\n",
       "      <td>fb882a39e938a9c7b7d6f13c8dba0e03898fbe31</td>\n",
       "    </tr>\n",
       "    <tr>\n",
       "      <th>36874</th>\n",
       "      <td>1429.0</td>\n",
       "      <td>use deep learning for image classification</td>\n",
       "      <td>fb882a39e938a9c7b7d6f13c8dba0e03898fbe31</td>\n",
       "    </tr>\n",
       "    <tr>\n",
       "      <th>36917</th>\n",
       "      <td>1429.0</td>\n",
       "      <td>use deep learning for image classification</td>\n",
       "      <td>fb882a39e938a9c7b7d6f13c8dba0e03898fbe31</td>\n",
       "    </tr>\n",
       "    <tr>\n",
       "      <th>36878</th>\n",
       "      <td>1429.0</td>\n",
       "      <td>use deep learning for image classification</td>\n",
       "      <td>fb882a39e938a9c7b7d6f13c8dba0e03898fbe31</td>\n",
       "    </tr>\n",
       "    <tr>\n",
       "      <th>36879</th>\n",
       "      <td>1429.0</td>\n",
       "      <td>use deep learning for image classification</td>\n",
       "      <td>fb882a39e938a9c7b7d6f13c8dba0e03898fbe31</td>\n",
       "    </tr>\n",
       "    <tr>\n",
       "      <th>8722</th>\n",
       "      <td>1429.0</td>\n",
       "      <td>use deep learning for image classification</td>\n",
       "      <td>fc4e4290f2f320d80711bbe019618cc5be8815fa</td>\n",
       "    </tr>\n",
       "    <tr>\n",
       "      <th>7663</th>\n",
       "      <td>1429.0</td>\n",
       "      <td>use deep learning for image classification</td>\n",
       "      <td>fc4e4290f2f320d80711bbe019618cc5be8815fa</td>\n",
       "    </tr>\n",
       "    <tr>\n",
       "      <th>44728</th>\n",
       "      <td>1429.0</td>\n",
       "      <td>use deep learning for image classification</td>\n",
       "      <td>fe13f905e0ce5959864ac83af47ee47f6d8eb831</td>\n",
       "    </tr>\n",
       "    <tr>\n",
       "      <th>10068</th>\n",
       "      <td>1429.0</td>\n",
       "      <td>use deep learning for image classification</td>\n",
       "      <td>fe66aa534c7824eca663b84b99a437a98a9b026e</td>\n",
       "    </tr>\n",
       "  </tbody>\n",
       "</table>\n",
       "<p>937 rows × 3 columns</p>\n",
       "</div>"
      ],
      "text/plain": [
       "       article_id                                       title  \\\n",
       "41629      1429.0  use deep learning for image classification   \n",
       "7892       1429.0  use deep learning for image classification   \n",
       "30552      1429.0  use deep learning for image classification   \n",
       "33896      1429.0  use deep learning for image classification   \n",
       "3274       1429.0  use deep learning for image classification   \n",
       "14444      1429.0  use deep learning for image classification   \n",
       "35765      1429.0  use deep learning for image classification   \n",
       "29589      1429.0  use deep learning for image classification   \n",
       "29592      1429.0  use deep learning for image classification   \n",
       "29593      1429.0  use deep learning for image classification   \n",
       "9384       1429.0  use deep learning for image classification   \n",
       "7931       1429.0  use deep learning for image classification   \n",
       "29218      1429.0  use deep learning for image classification   \n",
       "23650      1429.0  use deep learning for image classification   \n",
       "1249       1429.0  use deep learning for image classification   \n",
       "1025       1429.0  use deep learning for image classification   \n",
       "18306      1429.0  use deep learning for image classification   \n",
       "10495      1429.0  use deep learning for image classification   \n",
       "23369      1429.0  use deep learning for image classification   \n",
       "1412       1429.0  use deep learning for image classification   \n",
       "12079      1429.0  use deep learning for image classification   \n",
       "18304      1429.0  use deep learning for image classification   \n",
       "23392      1429.0  use deep learning for image classification   \n",
       "23393      1429.0  use deep learning for image classification   \n",
       "23637      1429.0  use deep learning for image classification   \n",
       "34837      1429.0  use deep learning for image classification   \n",
       "4563       1429.0  use deep learning for image classification   \n",
       "44324      1429.0  use deep learning for image classification   \n",
       "6708       1429.0  use deep learning for image classification   \n",
       "5785       1429.0  use deep learning for image classification   \n",
       "...           ...                                         ...   \n",
       "31848      1429.0  use deep learning for image classification   \n",
       "31861      1429.0  use deep learning for image classification   \n",
       "31860      1429.0  use deep learning for image classification   \n",
       "13031      1429.0  use deep learning for image classification   \n",
       "5888       1429.0  use deep learning for image classification   \n",
       "40120      1429.0  use deep learning for image classification   \n",
       "39761      1429.0  use deep learning for image classification   \n",
       "39697      1429.0  use deep learning for image classification   \n",
       "8903       1429.0  use deep learning for image classification   \n",
       "982        1429.0  use deep learning for image classification   \n",
       "35019      1429.0  use deep learning for image classification   \n",
       "36855      1429.0  use deep learning for image classification   \n",
       "36856      1429.0  use deep learning for image classification   \n",
       "36876      1429.0  use deep learning for image classification   \n",
       "36914      1429.0  use deep learning for image classification   \n",
       "36868      1429.0  use deep learning for image classification   \n",
       "36899      1429.0  use deep learning for image classification   \n",
       "36886      1429.0  use deep learning for image classification   \n",
       "36872      1429.0  use deep learning for image classification   \n",
       "36889      1429.0  use deep learning for image classification   \n",
       "36887      1429.0  use deep learning for image classification   \n",
       "36929      1429.0  use deep learning for image classification   \n",
       "36874      1429.0  use deep learning for image classification   \n",
       "36917      1429.0  use deep learning for image classification   \n",
       "36878      1429.0  use deep learning for image classification   \n",
       "36879      1429.0  use deep learning for image classification   \n",
       "8722       1429.0  use deep learning for image classification   \n",
       "7663       1429.0  use deep learning for image classification   \n",
       "44728      1429.0  use deep learning for image classification   \n",
       "10068      1429.0  use deep learning for image classification   \n",
       "\n",
       "                                          email  \n",
       "41629  011fcfb582be9534e9a275336f7e7c3717100381  \n",
       "7892   0129dfcdb701b6e1d309934be6393004c6683a2d  \n",
       "30552  015aaf617598e413a35d6d2249e26b7f3c40adb7  \n",
       "33896  020c5d8ac29cb133c5bac74b27662a3a2c2065fd  \n",
       "3274   02d1b427e745f1681458b0af149d7dffab546abe  \n",
       "14444  02d1b427e745f1681458b0af149d7dffab546abe  \n",
       "35765  03ce3a90c516eba9556e04002ebd733275a36f71  \n",
       "29589  0447177dcc9df02c6654fabed04f4299a0313b6b  \n",
       "29592  0447177dcc9df02c6654fabed04f4299a0313b6b  \n",
       "29593  0447177dcc9df02c6654fabed04f4299a0313b6b  \n",
       "9384   050ea3d5d920c6781ac04aa3ce05bc0a6049723b  \n",
       "7931   063adc1a060228137612dc513f6cd4f27373f1fb  \n",
       "29218  06cd4264073c9a2a83128090ef728e006d0e7391  \n",
       "23650  071ea7e6de69b2c78ce52d2e1954ccbd19886990  \n",
       "1249   071ea7e6de69b2c78ce52d2e1954ccbd19886990  \n",
       "1025   071ea7e6de69b2c78ce52d2e1954ccbd19886990  \n",
       "18306  071ea7e6de69b2c78ce52d2e1954ccbd19886990  \n",
       "10495  071ea7e6de69b2c78ce52d2e1954ccbd19886990  \n",
       "23369  071ea7e6de69b2c78ce52d2e1954ccbd19886990  \n",
       "1412   071ea7e6de69b2c78ce52d2e1954ccbd19886990  \n",
       "12079  071ea7e6de69b2c78ce52d2e1954ccbd19886990  \n",
       "18304  071ea7e6de69b2c78ce52d2e1954ccbd19886990  \n",
       "23392  073d60e1ca362759a230a4d01ed877b396015a26  \n",
       "23393  073d60e1ca362759a230a4d01ed877b396015a26  \n",
       "23637  073d60e1ca362759a230a4d01ed877b396015a26  \n",
       "34837  080025211bfd70b795acb9ad8950b5748682ecb5  \n",
       "4563   0acedc35a5f7b379845f425944566e63869811e9  \n",
       "44324  0b25abd23f280de3242cc9c49e75ce94a03184e6  \n",
       "6708   0bc364067d9e017f02c6efc7796f026df51e8b3d  \n",
       "5785   0d644205ecefdef33e3346bb3551f5e68dc57c58  \n",
       "...                                         ...  \n",
       "31848  f6272b166b17ab581331ef873f361c9212f80545  \n",
       "31861  f6272b166b17ab581331ef873f361c9212f80545  \n",
       "31860  f6272b166b17ab581331ef873f361c9212f80545  \n",
       "13031  f6b3f66192bb2d808d87fafe9a902ae2b493bbaa  \n",
       "5888   f6b3f66192bb2d808d87fafe9a902ae2b493bbaa  \n",
       "40120  f7dd42f94dabad5ed5a8f53db66ea269dcb91b58  \n",
       "39761  f8c978bcf2ae2fb8885814a9b85ffef2f54c3c76  \n",
       "39697  f8c978bcf2ae2fb8885814a9b85ffef2f54c3c76  \n",
       "8903   f946db70babe252d0a5dc2056465aa295fe97baa  \n",
       "982    fa0bd5a3a6956303722530f26854c8dd9f83dfd1  \n",
       "35019  faea84d51984f197ea8fa550997f3dc5d5b542a4  \n",
       "36855  fb882a39e938a9c7b7d6f13c8dba0e03898fbe31  \n",
       "36856  fb882a39e938a9c7b7d6f13c8dba0e03898fbe31  \n",
       "36876  fb882a39e938a9c7b7d6f13c8dba0e03898fbe31  \n",
       "36914  fb882a39e938a9c7b7d6f13c8dba0e03898fbe31  \n",
       "36868  fb882a39e938a9c7b7d6f13c8dba0e03898fbe31  \n",
       "36899  fb882a39e938a9c7b7d6f13c8dba0e03898fbe31  \n",
       "36886  fb882a39e938a9c7b7d6f13c8dba0e03898fbe31  \n",
       "36872  fb882a39e938a9c7b7d6f13c8dba0e03898fbe31  \n",
       "36889  fb882a39e938a9c7b7d6f13c8dba0e03898fbe31  \n",
       "36887  fb882a39e938a9c7b7d6f13c8dba0e03898fbe31  \n",
       "36929  fb882a39e938a9c7b7d6f13c8dba0e03898fbe31  \n",
       "36874  fb882a39e938a9c7b7d6f13c8dba0e03898fbe31  \n",
       "36917  fb882a39e938a9c7b7d6f13c8dba0e03898fbe31  \n",
       "36878  fb882a39e938a9c7b7d6f13c8dba0e03898fbe31  \n",
       "36879  fb882a39e938a9c7b7d6f13c8dba0e03898fbe31  \n",
       "8722   fc4e4290f2f320d80711bbe019618cc5be8815fa  \n",
       "7663   fc4e4290f2f320d80711bbe019618cc5be8815fa  \n",
       "44728  fe13f905e0ce5959864ac83af47ee47f6d8eb831  \n",
       "10068  fe66aa534c7824eca663b84b99a437a98a9b026e  \n",
       "\n",
       "[937 rows x 3 columns]"
      ]
     },
     "execution_count": 148,
     "metadata": {},
     "output_type": "execute_result"
    }
   ],
   "source": [
    "df[df['article_id'] == 1429.0].sort_values(by='email')"
   ]
  },
  {
   "cell_type": "code",
   "execution_count": 146,
   "metadata": {
    "collapsed": true
   },
   "outputs": [
    {
     "data": {
      "text/html": [
       "<div>\n",
       "<style scoped>\n",
       "    .dataframe tbody tr th:only-of-type {\n",
       "        vertical-align: middle;\n",
       "    }\n",
       "\n",
       "    .dataframe tbody tr th {\n",
       "        vertical-align: top;\n",
       "    }\n",
       "\n",
       "    .dataframe thead th {\n",
       "        text-align: right;\n",
       "    }\n",
       "</style>\n",
       "<table border=\"1\" class=\"dataframe\">\n",
       "  <thead>\n",
       "    <tr style=\"text-align: right;\">\n",
       "      <th></th>\n",
       "      <th>article_id</th>\n",
       "      <th>title</th>\n",
       "      <th>email</th>\n",
       "    </tr>\n",
       "  </thead>\n",
       "  <tbody>\n",
       "    <tr>\n",
       "      <th>41</th>\n",
       "      <td>1429.0</td>\n",
       "      <td>use deep learning for image classification</td>\n",
       "      <td>b96a4f2e92d8572034b1e9b28f9ac673765cd074</td>\n",
       "    </tr>\n",
       "    <tr>\n",
       "      <th>75</th>\n",
       "      <td>1429.0</td>\n",
       "      <td>use deep learning for image classification</td>\n",
       "      <td>3c2de1b0a92728aa53064a22ff7bd7319878ed95</td>\n",
       "    </tr>\n",
       "    <tr>\n",
       "      <th>95</th>\n",
       "      <td>1162.0</td>\n",
       "      <td>analyze energy consumption in buildings</td>\n",
       "      <td>d385b6c44711688ce2a33eb596495bf9243e1750</td>\n",
       "    </tr>\n",
       "    <tr>\n",
       "      <th>97</th>\n",
       "      <td>409.0</td>\n",
       "      <td>using github for project control in dsx</td>\n",
       "      <td>2b6c0f514c2f2b04ad3c4583407dccd0810469ee</td>\n",
       "    </tr>\n",
       "    <tr>\n",
       "      <th>99</th>\n",
       "      <td>1393.0</td>\n",
       "      <td>the nurse assignment problem</td>\n",
       "      <td>8dc8d7ec2356b1b106eb3d723f3c234e03ab3f1e</td>\n",
       "    </tr>\n",
       "    <tr>\n",
       "      <th>103</th>\n",
       "      <td>1330.0</td>\n",
       "      <td>insights from new york car accident reports</td>\n",
       "      <td>20c6b6f18eb5fa53e5559afd74f4ccf01db37594</td>\n",
       "    </tr>\n",
       "    <tr>\n",
       "      <th>105</th>\n",
       "      <td>1053.0</td>\n",
       "      <td>access mysql with python</td>\n",
       "      <td>3268a4aa6766954f5ba5e54d8b7a64beaf649493</td>\n",
       "    </tr>\n",
       "    <tr>\n",
       "      <th>106</th>\n",
       "      <td>1162.0</td>\n",
       "      <td>analyze energy consumption in buildings</td>\n",
       "      <td>3268a4aa6766954f5ba5e54d8b7a64beaf649493</td>\n",
       "    </tr>\n",
       "    <tr>\n",
       "      <th>113</th>\n",
       "      <td>1052.0</td>\n",
       "      <td>access db2 warehouse on cloud and db2 with python</td>\n",
       "      <td>f44787ebd5330e097a1ee8aea81d970200e912bb</td>\n",
       "    </tr>\n",
       "    <tr>\n",
       "      <th>133</th>\n",
       "      <td>1431.0</td>\n",
       "      <td>visualize car data with brunel</td>\n",
       "      <td>3b5c304f93db685df40d297a18e69a4a5b1f14aa</td>\n",
       "    </tr>\n",
       "    <tr>\n",
       "      <th>140</th>\n",
       "      <td>1431.0</td>\n",
       "      <td>visualize car data with brunel</td>\n",
       "      <td>5a4b625e4d73fbd4964f7664dd516b8a0abb033f</td>\n",
       "    </tr>\n",
       "    <tr>\n",
       "      <th>144</th>\n",
       "      <td>1431.0</td>\n",
       "      <td>visualize car data with brunel</td>\n",
       "      <td>3b5c304f93db685df40d297a18e69a4a5b1f14aa</td>\n",
       "    </tr>\n",
       "    <tr>\n",
       "      <th>146</th>\n",
       "      <td>50.0</td>\n",
       "      <td>graph-based machine learning</td>\n",
       "      <td>383273e6185969bd9b93ace8d20cfab0a75e6979</td>\n",
       "    </tr>\n",
       "    <tr>\n",
       "      <th>156</th>\n",
       "      <td>1293.0</td>\n",
       "      <td>finding optimal locations of new store using d...</td>\n",
       "      <td>8d2e64be62f374764647db3d99b3268400678029</td>\n",
       "    </tr>\n",
       "    <tr>\n",
       "      <th>157</th>\n",
       "      <td>1330.0</td>\n",
       "      <td>insights from new york car accident reports</td>\n",
       "      <td>06485706b34a5c9bf2a0ecdac41daf7e7654ceb7</td>\n",
       "    </tr>\n",
       "    <tr>\n",
       "      <th>166</th>\n",
       "      <td>1423.0</td>\n",
       "      <td>use sql with data in hadoop python</td>\n",
       "      <td>d9032ff68d0fd45dfd18c0c5f7324619bb55362c</td>\n",
       "    </tr>\n",
       "    <tr>\n",
       "      <th>171</th>\n",
       "      <td>1314.0</td>\n",
       "      <td>healthcare python streaming application demo</td>\n",
       "      <td>f0d738c18e8ef4736beabea9db813cd86cc5a148</td>\n",
       "    </tr>\n",
       "    <tr>\n",
       "      <th>176</th>\n",
       "      <td>1427.0</td>\n",
       "      <td>use xgboost, scikit-learn &amp; ibm watson machine...</td>\n",
       "      <td>a62b937b7f3e4ecfcd161d765718af7783941c28</td>\n",
       "    </tr>\n",
       "    <tr>\n",
       "      <th>177</th>\n",
       "      <td>1162.0</td>\n",
       "      <td>analyze energy consumption in buildings</td>\n",
       "      <td>3268a4aa6766954f5ba5e54d8b7a64beaf649493</td>\n",
       "    </tr>\n",
       "    <tr>\n",
       "      <th>195</th>\n",
       "      <td>1338.0</td>\n",
       "      <td>ml optimization using cognitive assistant</td>\n",
       "      <td>7c2525cb8ac1e7bad9597c51a62dc6131ed0e4aa</td>\n",
       "    </tr>\n",
       "    <tr>\n",
       "      <th>202</th>\n",
       "      <td>1305.0</td>\n",
       "      <td>gosales transactions for naive bayes model</td>\n",
       "      <td>248c7b0a9d8b25e7727d7c31877f5fe4dd6e71ca</td>\n",
       "    </tr>\n",
       "    <tr>\n",
       "      <th>205</th>\n",
       "      <td>1330.0</td>\n",
       "      <td>insights from new york car accident reports</td>\n",
       "      <td>35d5799b6ea3ba24f921ed38f7f9a8039ad06ba4</td>\n",
       "    </tr>\n",
       "    <tr>\n",
       "      <th>213</th>\n",
       "      <td>1052.0</td>\n",
       "      <td>access db2 warehouse on cloud and db2 with python</td>\n",
       "      <td>3bbca9c41c66c4ecc46bc14eac7b7ab1ab0a5bea</td>\n",
       "    </tr>\n",
       "    <tr>\n",
       "      <th>217</th>\n",
       "      <td>1162.0</td>\n",
       "      <td>analyze energy consumption in buildings</td>\n",
       "      <td>c6a8adeabf6f5c38f9d68d23212d50c90a03dd02</td>\n",
       "    </tr>\n",
       "    <tr>\n",
       "      <th>220</th>\n",
       "      <td>1162.0</td>\n",
       "      <td>analyze energy consumption in buildings</td>\n",
       "      <td>337eb89ffe579e5f89b2b44a5369f9c2922211da</td>\n",
       "    </tr>\n",
       "    <tr>\n",
       "      <th>221</th>\n",
       "      <td>1351.0</td>\n",
       "      <td>model bike sharing data with spss</td>\n",
       "      <td>f01220c46fc92c6e6b161b1849de11faacd7ccb2</td>\n",
       "    </tr>\n",
       "    <tr>\n",
       "      <th>233</th>\n",
       "      <td>1314.0</td>\n",
       "      <td>healthcare python streaming application demo</td>\n",
       "      <td>b1711b92b8aef2fc57bf040d7c00407d60f12533</td>\n",
       "    </tr>\n",
       "    <tr>\n",
       "      <th>235</th>\n",
       "      <td>1052.0</td>\n",
       "      <td>access db2 warehouse on cloud and db2 with python</td>\n",
       "      <td>f44787ebd5330e097a1ee8aea81d970200e912bb</td>\n",
       "    </tr>\n",
       "    <tr>\n",
       "      <th>242</th>\n",
       "      <td>1162.0</td>\n",
       "      <td>analyze energy consumption in buildings</td>\n",
       "      <td>c6a8adeabf6f5c38f9d68d23212d50c90a03dd02</td>\n",
       "    </tr>\n",
       "    <tr>\n",
       "      <th>243</th>\n",
       "      <td>1052.0</td>\n",
       "      <td>access db2 warehouse on cloud and db2 with python</td>\n",
       "      <td>f44787ebd5330e097a1ee8aea81d970200e912bb</td>\n",
       "    </tr>\n",
       "    <tr>\n",
       "      <th>...</th>\n",
       "      <td>...</td>\n",
       "      <td>...</td>\n",
       "      <td>...</td>\n",
       "    </tr>\n",
       "    <tr>\n",
       "      <th>45907</th>\n",
       "      <td>125.0</td>\n",
       "      <td>statistics for hackers</td>\n",
       "      <td>e90de4b883d9de64a47774ad7ad49ca6fd69d4fe</td>\n",
       "    </tr>\n",
       "    <tr>\n",
       "      <th>45908</th>\n",
       "      <td>43.0</td>\n",
       "      <td>deep learning with tensorflow course by big da...</td>\n",
       "      <td>e90de4b883d9de64a47774ad7ad49ca6fd69d4fe</td>\n",
       "    </tr>\n",
       "    <tr>\n",
       "      <th>45910</th>\n",
       "      <td>53.0</td>\n",
       "      <td>introducing streams designer</td>\n",
       "      <td>e90de4b883d9de64a47774ad7ad49ca6fd69d4fe</td>\n",
       "    </tr>\n",
       "    <tr>\n",
       "      <th>45914</th>\n",
       "      <td>524.0</td>\n",
       "      <td>data science platforms are on the rise and ibm...</td>\n",
       "      <td>e90de4b883d9de64a47774ad7ad49ca6fd69d4fe</td>\n",
       "    </tr>\n",
       "    <tr>\n",
       "      <th>45915</th>\n",
       "      <td>39.0</td>\n",
       "      <td>pulling and displaying etf data</td>\n",
       "      <td>e90de4b883d9de64a47774ad7ad49ca6fd69d4fe</td>\n",
       "    </tr>\n",
       "    <tr>\n",
       "      <th>45916</th>\n",
       "      <td>101.0</td>\n",
       "      <td>how to choose a project to practice data science</td>\n",
       "      <td>e90de4b883d9de64a47774ad7ad49ca6fd69d4fe</td>\n",
       "    </tr>\n",
       "    <tr>\n",
       "      <th>45917</th>\n",
       "      <td>131.0</td>\n",
       "      <td>simple graphing with ipython and pandas</td>\n",
       "      <td>e90de4b883d9de64a47774ad7ad49ca6fd69d4fe</td>\n",
       "    </tr>\n",
       "    <tr>\n",
       "      <th>45918</th>\n",
       "      <td>43.0</td>\n",
       "      <td>deep learning with tensorflow course by big da...</td>\n",
       "      <td>e90de4b883d9de64a47774ad7ad49ca6fd69d4fe</td>\n",
       "    </tr>\n",
       "    <tr>\n",
       "      <th>45921</th>\n",
       "      <td>43.0</td>\n",
       "      <td>deep learning with tensorflow course by big da...</td>\n",
       "      <td>e90de4b883d9de64a47774ad7ad49ca6fd69d4fe</td>\n",
       "    </tr>\n",
       "    <tr>\n",
       "      <th>45922</th>\n",
       "      <td>1016.0</td>\n",
       "      <td>why you should master r (even if it might even...</td>\n",
       "      <td>e90de4b883d9de64a47774ad7ad49ca6fd69d4fe</td>\n",
       "    </tr>\n",
       "    <tr>\n",
       "      <th>45923</th>\n",
       "      <td>125.0</td>\n",
       "      <td>statistics for hackers</td>\n",
       "      <td>e90de4b883d9de64a47774ad7ad49ca6fd69d4fe</td>\n",
       "    </tr>\n",
       "    <tr>\n",
       "      <th>45924</th>\n",
       "      <td>1330.0</td>\n",
       "      <td>insights from new york car accident reports</td>\n",
       "      <td>e90de4b883d9de64a47774ad7ad49ca6fd69d4fe</td>\n",
       "    </tr>\n",
       "    <tr>\n",
       "      <th>45929</th>\n",
       "      <td>448.0</td>\n",
       "      <td>this week in data science (april 11, 2017)</td>\n",
       "      <td>e90de4b883d9de64a47774ad7ad49ca6fd69d4fe</td>\n",
       "    </tr>\n",
       "    <tr>\n",
       "      <th>45930</th>\n",
       "      <td>448.0</td>\n",
       "      <td>this week in data science (april 11, 2017)</td>\n",
       "      <td>e90de4b883d9de64a47774ad7ad49ca6fd69d4fe</td>\n",
       "    </tr>\n",
       "    <tr>\n",
       "      <th>45931</th>\n",
       "      <td>2.0</td>\n",
       "      <td>this week in data science (april 18, 2017)</td>\n",
       "      <td>e90de4b883d9de64a47774ad7ad49ca6fd69d4fe</td>\n",
       "    </tr>\n",
       "    <tr>\n",
       "      <th>45936</th>\n",
       "      <td>152.0</td>\n",
       "      <td>how to solve 90% of nlp problems</td>\n",
       "      <td>e90de4b883d9de64a47774ad7ad49ca6fd69d4fe</td>\n",
       "    </tr>\n",
       "    <tr>\n",
       "      <th>45938</th>\n",
       "      <td>109.0</td>\n",
       "      <td>tensorflow quick tips</td>\n",
       "      <td>e90de4b883d9de64a47774ad7ad49ca6fd69d4fe</td>\n",
       "    </tr>\n",
       "    <tr>\n",
       "      <th>45939</th>\n",
       "      <td>1296.0</td>\n",
       "      <td>fortune 100 companies</td>\n",
       "      <td>e90de4b883d9de64a47774ad7ad49ca6fd69d4fe</td>\n",
       "    </tr>\n",
       "    <tr>\n",
       "      <th>45943</th>\n",
       "      <td>1330.0</td>\n",
       "      <td>insights from new york car accident reports</td>\n",
       "      <td>e90de4b883d9de64a47774ad7ad49ca6fd69d4fe</td>\n",
       "    </tr>\n",
       "    <tr>\n",
       "      <th>45945</th>\n",
       "      <td>933.0</td>\n",
       "      <td>workflow in r</td>\n",
       "      <td>e90de4b883d9de64a47774ad7ad49ca6fd69d4fe</td>\n",
       "    </tr>\n",
       "    <tr>\n",
       "      <th>45954</th>\n",
       "      <td>1398.0</td>\n",
       "      <td>total population by country</td>\n",
       "      <td>0f3f3b558c7a821ef18092c48ea924aff362ec53</td>\n",
       "    </tr>\n",
       "    <tr>\n",
       "      <th>45960</th>\n",
       "      <td>1330.0</td>\n",
       "      <td>insights from new york car accident reports</td>\n",
       "      <td>0f3f3b558c7a821ef18092c48ea924aff362ec53</td>\n",
       "    </tr>\n",
       "    <tr>\n",
       "      <th>45965</th>\n",
       "      <td>1430.0</td>\n",
       "      <td>using pixiedust for fast, flexible, and easier...</td>\n",
       "      <td>0f3f3b558c7a821ef18092c48ea924aff362ec53</td>\n",
       "    </tr>\n",
       "    <tr>\n",
       "      <th>45969</th>\n",
       "      <td>1400.0</td>\n",
       "      <td>uci ml repository: chronic kidney disease data...</td>\n",
       "      <td>0f3f3b558c7a821ef18092c48ea924aff362ec53</td>\n",
       "    </tr>\n",
       "    <tr>\n",
       "      <th>45971</th>\n",
       "      <td>1400.0</td>\n",
       "      <td>uci ml repository: chronic kidney disease data...</td>\n",
       "      <td>0f3f3b558c7a821ef18092c48ea924aff362ec53</td>\n",
       "    </tr>\n",
       "    <tr>\n",
       "      <th>45972</th>\n",
       "      <td>588.0</td>\n",
       "      <td>tidyr 0.6.0</td>\n",
       "      <td>0f3f3b558c7a821ef18092c48ea924aff362ec53</td>\n",
       "    </tr>\n",
       "    <tr>\n",
       "      <th>45973</th>\n",
       "      <td>1398.0</td>\n",
       "      <td>total population by country</td>\n",
       "      <td>0f3f3b558c7a821ef18092c48ea924aff362ec53</td>\n",
       "    </tr>\n",
       "    <tr>\n",
       "      <th>45979</th>\n",
       "      <td>962.0</td>\n",
       "      <td>data visualization with r: scrum metrics</td>\n",
       "      <td>1b7a3f70a30b90837681376d48c1ae8832f9834b</td>\n",
       "    </tr>\n",
       "    <tr>\n",
       "      <th>45982</th>\n",
       "      <td>1324.0</td>\n",
       "      <td>ibm watson facebook posts for 2015</td>\n",
       "      <td>d21b998d7a4722310ceeaa3c6aaa181a36db2d73</td>\n",
       "    </tr>\n",
       "    <tr>\n",
       "      <th>45988</th>\n",
       "      <td>1324.0</td>\n",
       "      <td>ibm watson facebook posts for 2015</td>\n",
       "      <td>d21b998d7a4722310ceeaa3c6aaa181a36db2d73</td>\n",
       "    </tr>\n",
       "  </tbody>\n",
       "</table>\n",
       "<p>12311 rows × 3 columns</p>\n",
       "</div>"
      ],
      "text/plain": [
       "       article_id                                              title  \\\n",
       "41         1429.0         use deep learning for image classification   \n",
       "75         1429.0         use deep learning for image classification   \n",
       "95         1162.0            analyze energy consumption in buildings   \n",
       "97          409.0            using github for project control in dsx   \n",
       "99         1393.0                       the nurse assignment problem   \n",
       "103        1330.0        insights from new york car accident reports   \n",
       "105        1053.0                           access mysql with python   \n",
       "106        1162.0            analyze energy consumption in buildings   \n",
       "113        1052.0  access db2 warehouse on cloud and db2 with python   \n",
       "133        1431.0                     visualize car data with brunel   \n",
       "140        1431.0                     visualize car data with brunel   \n",
       "144        1431.0                     visualize car data with brunel   \n",
       "146          50.0                       graph-based machine learning   \n",
       "156        1293.0  finding optimal locations of new store using d...   \n",
       "157        1330.0        insights from new york car accident reports   \n",
       "166        1423.0                 use sql with data in hadoop python   \n",
       "171        1314.0       healthcare python streaming application demo   \n",
       "176        1427.0  use xgboost, scikit-learn & ibm watson machine...   \n",
       "177        1162.0            analyze energy consumption in buildings   \n",
       "195        1338.0          ml optimization using cognitive assistant   \n",
       "202        1305.0         gosales transactions for naive bayes model   \n",
       "205        1330.0        insights from new york car accident reports   \n",
       "213        1052.0  access db2 warehouse on cloud and db2 with python   \n",
       "217        1162.0            analyze energy consumption in buildings   \n",
       "220        1162.0            analyze energy consumption in buildings   \n",
       "221        1351.0                  model bike sharing data with spss   \n",
       "233        1314.0       healthcare python streaming application demo   \n",
       "235        1052.0  access db2 warehouse on cloud and db2 with python   \n",
       "242        1162.0            analyze energy consumption in buildings   \n",
       "243        1052.0  access db2 warehouse on cloud and db2 with python   \n",
       "...           ...                                                ...   \n",
       "45907       125.0                             statistics for hackers   \n",
       "45908        43.0  deep learning with tensorflow course by big da...   \n",
       "45910        53.0                       introducing streams designer   \n",
       "45914       524.0  data science platforms are on the rise and ibm...   \n",
       "45915        39.0                    pulling and displaying etf data   \n",
       "45916       101.0   how to choose a project to practice data science   \n",
       "45917       131.0            simple graphing with ipython and pandas   \n",
       "45918        43.0  deep learning with tensorflow course by big da...   \n",
       "45921        43.0  deep learning with tensorflow course by big da...   \n",
       "45922      1016.0  why you should master r (even if it might even...   \n",
       "45923       125.0                             statistics for hackers   \n",
       "45924      1330.0        insights from new york car accident reports   \n",
       "45929       448.0         this week in data science (april 11, 2017)   \n",
       "45930       448.0         this week in data science (april 11, 2017)   \n",
       "45931         2.0         this week in data science (april 18, 2017)   \n",
       "45936       152.0                   how to solve 90% of nlp problems   \n",
       "45938       109.0                              tensorflow quick tips   \n",
       "45939      1296.0                              fortune 100 companies   \n",
       "45943      1330.0        insights from new york car accident reports   \n",
       "45945       933.0                                      workflow in r   \n",
       "45954      1398.0                        total population by country   \n",
       "45960      1330.0        insights from new york car accident reports   \n",
       "45965      1430.0  using pixiedust for fast, flexible, and easier...   \n",
       "45969      1400.0  uci ml repository: chronic kidney disease data...   \n",
       "45971      1400.0  uci ml repository: chronic kidney disease data...   \n",
       "45972       588.0                                        tidyr 0.6.0   \n",
       "45973      1398.0                        total population by country   \n",
       "45979       962.0           data visualization with r: scrum metrics   \n",
       "45982      1324.0                 ibm watson facebook posts for 2015   \n",
       "45988      1324.0                 ibm watson facebook posts for 2015   \n",
       "\n",
       "                                          email  \n",
       "41     b96a4f2e92d8572034b1e9b28f9ac673765cd074  \n",
       "75     3c2de1b0a92728aa53064a22ff7bd7319878ed95  \n",
       "95     d385b6c44711688ce2a33eb596495bf9243e1750  \n",
       "97     2b6c0f514c2f2b04ad3c4583407dccd0810469ee  \n",
       "99     8dc8d7ec2356b1b106eb3d723f3c234e03ab3f1e  \n",
       "103    20c6b6f18eb5fa53e5559afd74f4ccf01db37594  \n",
       "105    3268a4aa6766954f5ba5e54d8b7a64beaf649493  \n",
       "106    3268a4aa6766954f5ba5e54d8b7a64beaf649493  \n",
       "113    f44787ebd5330e097a1ee8aea81d970200e912bb  \n",
       "133    3b5c304f93db685df40d297a18e69a4a5b1f14aa  \n",
       "140    5a4b625e4d73fbd4964f7664dd516b8a0abb033f  \n",
       "144    3b5c304f93db685df40d297a18e69a4a5b1f14aa  \n",
       "146    383273e6185969bd9b93ace8d20cfab0a75e6979  \n",
       "156    8d2e64be62f374764647db3d99b3268400678029  \n",
       "157    06485706b34a5c9bf2a0ecdac41daf7e7654ceb7  \n",
       "166    d9032ff68d0fd45dfd18c0c5f7324619bb55362c  \n",
       "171    f0d738c18e8ef4736beabea9db813cd86cc5a148  \n",
       "176    a62b937b7f3e4ecfcd161d765718af7783941c28  \n",
       "177    3268a4aa6766954f5ba5e54d8b7a64beaf649493  \n",
       "195    7c2525cb8ac1e7bad9597c51a62dc6131ed0e4aa  \n",
       "202    248c7b0a9d8b25e7727d7c31877f5fe4dd6e71ca  \n",
       "205    35d5799b6ea3ba24f921ed38f7f9a8039ad06ba4  \n",
       "213    3bbca9c41c66c4ecc46bc14eac7b7ab1ab0a5bea  \n",
       "217    c6a8adeabf6f5c38f9d68d23212d50c90a03dd02  \n",
       "220    337eb89ffe579e5f89b2b44a5369f9c2922211da  \n",
       "221    f01220c46fc92c6e6b161b1849de11faacd7ccb2  \n",
       "233    b1711b92b8aef2fc57bf040d7c00407d60f12533  \n",
       "235    f44787ebd5330e097a1ee8aea81d970200e912bb  \n",
       "242    c6a8adeabf6f5c38f9d68d23212d50c90a03dd02  \n",
       "243    f44787ebd5330e097a1ee8aea81d970200e912bb  \n",
       "...                                         ...  \n",
       "45907  e90de4b883d9de64a47774ad7ad49ca6fd69d4fe  \n",
       "45908  e90de4b883d9de64a47774ad7ad49ca6fd69d4fe  \n",
       "45910  e90de4b883d9de64a47774ad7ad49ca6fd69d4fe  \n",
       "45914  e90de4b883d9de64a47774ad7ad49ca6fd69d4fe  \n",
       "45915  e90de4b883d9de64a47774ad7ad49ca6fd69d4fe  \n",
       "45916  e90de4b883d9de64a47774ad7ad49ca6fd69d4fe  \n",
       "45917  e90de4b883d9de64a47774ad7ad49ca6fd69d4fe  \n",
       "45918  e90de4b883d9de64a47774ad7ad49ca6fd69d4fe  \n",
       "45921  e90de4b883d9de64a47774ad7ad49ca6fd69d4fe  \n",
       "45922  e90de4b883d9de64a47774ad7ad49ca6fd69d4fe  \n",
       "45923  e90de4b883d9de64a47774ad7ad49ca6fd69d4fe  \n",
       "45924  e90de4b883d9de64a47774ad7ad49ca6fd69d4fe  \n",
       "45929  e90de4b883d9de64a47774ad7ad49ca6fd69d4fe  \n",
       "45930  e90de4b883d9de64a47774ad7ad49ca6fd69d4fe  \n",
       "45931  e90de4b883d9de64a47774ad7ad49ca6fd69d4fe  \n",
       "45936  e90de4b883d9de64a47774ad7ad49ca6fd69d4fe  \n",
       "45938  e90de4b883d9de64a47774ad7ad49ca6fd69d4fe  \n",
       "45939  e90de4b883d9de64a47774ad7ad49ca6fd69d4fe  \n",
       "45943  e90de4b883d9de64a47774ad7ad49ca6fd69d4fe  \n",
       "45945  e90de4b883d9de64a47774ad7ad49ca6fd69d4fe  \n",
       "45954  0f3f3b558c7a821ef18092c48ea924aff362ec53  \n",
       "45960  0f3f3b558c7a821ef18092c48ea924aff362ec53  \n",
       "45965  0f3f3b558c7a821ef18092c48ea924aff362ec53  \n",
       "45969  0f3f3b558c7a821ef18092c48ea924aff362ec53  \n",
       "45971  0f3f3b558c7a821ef18092c48ea924aff362ec53  \n",
       "45972  0f3f3b558c7a821ef18092c48ea924aff362ec53  \n",
       "45973  0f3f3b558c7a821ef18092c48ea924aff362ec53  \n",
       "45979  1b7a3f70a30b90837681376d48c1ae8832f9834b  \n",
       "45982  d21b998d7a4722310ceeaa3c6aaa181a36db2d73  \n",
       "45988  d21b998d7a4722310ceeaa3c6aaa181a36db2d73  \n",
       "\n",
       "[12311 rows x 3 columns]"
      ]
     },
     "execution_count": 146,
     "metadata": {},
     "output_type": "execute_result"
    }
   ],
   "source": [
    "df[df.duplicated() == True]"
   ]
  },
  {
   "cell_type": "code",
   "execution_count": 142,
   "metadata": {},
   "outputs": [
    {
     "data": {
      "text/plain": [
       "(33682, 8)"
      ]
     },
     "execution_count": 142,
     "metadata": {},
     "output_type": "execute_result"
    }
   ],
   "source": [
    "df.join(df_content, on='article_id', rsuffix='_content').drop_duplicates().shape"
   ]
  },
  {
   "cell_type": "code",
   "execution_count": 133,
   "metadata": {},
   "outputs": [
    {
     "data": {
      "text/plain": [
       "article_id                0\n",
       "title                     0\n",
       "email                    17\n",
       "doc_body              23958\n",
       "doc_description       23668\n",
       "doc_full_name         23630\n",
       "doc_status            23630\n",
       "article_id_content    23630\n",
       "dtype: int64"
      ]
     },
     "execution_count": 133,
     "metadata": {},
     "output_type": "execute_result"
    }
   ],
   "source": [
    "df.join(df_content, on='article_id', rsuffix='_content').isnull().sum()"
   ]
  },
  {
   "cell_type": "code",
   "execution_count": 118,
   "metadata": {},
   "outputs": [
    {
     "data": {
      "text/plain": [
       "(45993, 3)"
      ]
     },
     "execution_count": 118,
     "metadata": {},
     "output_type": "execute_result"
    }
   ],
   "source": [
    "df.shape"
   ]
  },
  {
   "cell_type": "code",
   "execution_count": 11,
   "metadata": {},
   "outputs": [],
   "source": [
    "# Fill in the median and maximum number of user_article interactios below\n",
    "\n",
    "# 50% of individuals interact with ____ number of articles or fewer.\n",
    "median_val = data['count'].median() \n",
    "\n",
    "# The maximum number of user-article interactions by any 1 user is ______.\n",
    "max_views_by_user = data['count'].sort_values(ascending=False).head(1)[0]"
   ]
  },
  {
   "cell_type": "markdown",
   "metadata": {},
   "source": [
    "`2.` Explore and remove duplicate articles from the **df_content** dataframe.  "
   ]
  },
  {
   "cell_type": "code",
   "execution_count": 12,
   "metadata": {},
   "outputs": [
    {
     "data": {
      "text/plain": [
       "5"
      ]
     },
     "execution_count": 12,
     "metadata": {},
     "output_type": "execute_result"
    }
   ],
   "source": [
    "# Find and explore duplicate articles\n",
    "\n",
    "(df_content.duplicated(subset=['article_id']) == True).sum()"
   ]
  },
  {
   "cell_type": "code",
   "execution_count": 13,
   "metadata": {},
   "outputs": [
    {
     "data": {
      "text/html": [
       "<div>\n",
       "<style scoped>\n",
       "    .dataframe tbody tr th:only-of-type {\n",
       "        vertical-align: middle;\n",
       "    }\n",
       "\n",
       "    .dataframe tbody tr th {\n",
       "        vertical-align: top;\n",
       "    }\n",
       "\n",
       "    .dataframe thead th {\n",
       "        text-align: right;\n",
       "    }\n",
       "</style>\n",
       "<table border=\"1\" class=\"dataframe\">\n",
       "  <thead>\n",
       "    <tr style=\"text-align: right;\">\n",
       "      <th></th>\n",
       "      <th>doc_body</th>\n",
       "      <th>doc_description</th>\n",
       "      <th>doc_full_name</th>\n",
       "      <th>doc_status</th>\n",
       "      <th>article_id</th>\n",
       "    </tr>\n",
       "  </thead>\n",
       "  <tbody>\n",
       "    <tr>\n",
       "      <th>365</th>\n",
       "      <td>Follow Sign in / Sign up Home About Insight Da...</td>\n",
       "      <td>During the seven-week Insight Data Engineering...</td>\n",
       "      <td>Graph-based machine learning</td>\n",
       "      <td>Live</td>\n",
       "      <td>50</td>\n",
       "    </tr>\n",
       "    <tr>\n",
       "      <th>692</th>\n",
       "      <td>Homepage Follow Sign in / Sign up Homepage * H...</td>\n",
       "      <td>One of the earliest documented catalogs was co...</td>\n",
       "      <td>How smart catalogs can turn the big data flood...</td>\n",
       "      <td>Live</td>\n",
       "      <td>221</td>\n",
       "    </tr>\n",
       "    <tr>\n",
       "      <th>761</th>\n",
       "      <td>Homepage Follow Sign in Get started Homepage *...</td>\n",
       "      <td>Today’s world of data science leverages data f...</td>\n",
       "      <td>Using Apache Spark as a parallel processing fr...</td>\n",
       "      <td>Live</td>\n",
       "      <td>398</td>\n",
       "    </tr>\n",
       "    <tr>\n",
       "      <th>970</th>\n",
       "      <td>This video shows you how to construct queries ...</td>\n",
       "      <td>This video shows you how to construct queries ...</td>\n",
       "      <td>Use the Primary Index</td>\n",
       "      <td>Live</td>\n",
       "      <td>577</td>\n",
       "    </tr>\n",
       "    <tr>\n",
       "      <th>971</th>\n",
       "      <td>Homepage Follow Sign in Get started * Home\\r\\n...</td>\n",
       "      <td>If you are like most data scientists, you are ...</td>\n",
       "      <td>Self-service data preparation with IBM Data Re...</td>\n",
       "      <td>Live</td>\n",
       "      <td>232</td>\n",
       "    </tr>\n",
       "  </tbody>\n",
       "</table>\n",
       "</div>"
      ],
      "text/plain": [
       "                                              doc_body  \\\n",
       "365  Follow Sign in / Sign up Home About Insight Da...   \n",
       "692  Homepage Follow Sign in / Sign up Homepage * H...   \n",
       "761  Homepage Follow Sign in Get started Homepage *...   \n",
       "970  This video shows you how to construct queries ...   \n",
       "971  Homepage Follow Sign in Get started * Home\\r\\n...   \n",
       "\n",
       "                                       doc_description  \\\n",
       "365  During the seven-week Insight Data Engineering...   \n",
       "692  One of the earliest documented catalogs was co...   \n",
       "761  Today’s world of data science leverages data f...   \n",
       "970  This video shows you how to construct queries ...   \n",
       "971  If you are like most data scientists, you are ...   \n",
       "\n",
       "                                         doc_full_name doc_status  article_id  \n",
       "365                       Graph-based machine learning       Live          50  \n",
       "692  How smart catalogs can turn the big data flood...       Live         221  \n",
       "761  Using Apache Spark as a parallel processing fr...       Live         398  \n",
       "970                              Use the Primary Index       Live         577  \n",
       "971  Self-service data preparation with IBM Data Re...       Live         232  "
      ]
     },
     "execution_count": 13,
     "metadata": {},
     "output_type": "execute_result"
    }
   ],
   "source": [
    "df_content[df_content.duplicated(subset=['article_id']) == True]"
   ]
  },
  {
   "cell_type": "code",
   "execution_count": 14,
   "metadata": {},
   "outputs": [
    {
     "data": {
      "text/plain": [
       "(0, 5)"
      ]
     },
     "execution_count": 14,
     "metadata": {},
     "output_type": "execute_result"
    }
   ],
   "source": [
    "# 5 article duplicates\n",
    "\n",
    "df_content[df_content.duplicated()].shape"
   ]
  },
  {
   "cell_type": "code",
   "execution_count": 15,
   "metadata": {},
   "outputs": [],
   "source": [
    "# Remove any rows that have the same article_id - only keep the first"
   ]
  },
  {
   "cell_type": "code",
   "execution_count": 16,
   "metadata": {},
   "outputs": [
    {
     "data": {
      "text/plain": [
       "(1051, 5)"
      ]
     },
     "execution_count": 16,
     "metadata": {},
     "output_type": "execute_result"
    }
   ],
   "source": [
    "df_content = df_content.drop_duplicates(subset='article_id')\n",
    "df_content.shape"
   ]
  },
  {
   "cell_type": "markdown",
   "metadata": {},
   "source": [
    "`3.` Use the cells below to find:\n",
    "\n",
    "**a.** The number of unique articles that have an interaction with a user.  \n",
    "**b.** The number of unique articles in the dataset (whether they have any interactions or not).<br>\n",
    "**c.** The number of unique users in the dataset. (excluding null values) <br>\n",
    "**d.** The number of user-article interactions in the dataset."
   ]
  },
  {
   "cell_type": "code",
   "execution_count": 17,
   "metadata": {},
   "outputs": [],
   "source": [
    "# The number of unique articles that have at least one interaction with user\n",
    "unique_articles = pd.unique(df['article_id']).shape[0]\n",
    "\n",
    "# The number of unique articles on the IBM platform\n",
    "total_articles = df_content[df_content['article_id'].notnull()].shape[0]\n",
    "\n",
    "# The number of unique users\n",
    "unique_users = pd.unique(df[df['email'].notnull()]['email']).shape[0]\n",
    "\n",
    "# The number of user-article interactions\n",
    "user_article_interactions = df.shape[0]"
   ]
  },
  {
   "cell_type": "markdown",
   "metadata": {},
   "source": [
    "`4.` Use the cells below to find the most viewed **article_id**, as well as how often it was viewed.  After talking to the company leaders, the `email_mapper` function was deemed a reasonable way to map users to ids.  There were a small number of null values, and it was found that all of these null values likely belonged to a single user (which is how they are stored using the function below)."
   ]
  },
  {
   "cell_type": "code",
   "execution_count": 18,
   "metadata": {},
   "outputs": [],
   "source": [
    "# Get the most viewed article\n",
    "most_viewed_article = df.groupby('article_id')['article_id'].count().sort_values(ascending=False).head(1)\n",
    "\n",
    "# The most viewed article in the dataset as a string with one value following the decimal \n",
    "most_viewed_article_id = str(most_viewed_article.index[0])\n",
    "\n",
    "# The most viewed article in the dataset was viewed how many times?\n",
    "max_views = most_viewed_article.values[0]"
   ]
  },
  {
   "cell_type": "code",
   "execution_count": 19,
   "metadata": {},
   "outputs": [
    {
     "data": {
      "text/html": [
       "<div>\n",
       "<style scoped>\n",
       "    .dataframe tbody tr th:only-of-type {\n",
       "        vertical-align: middle;\n",
       "    }\n",
       "\n",
       "    .dataframe tbody tr th {\n",
       "        vertical-align: top;\n",
       "    }\n",
       "\n",
       "    .dataframe thead th {\n",
       "        text-align: right;\n",
       "    }\n",
       "</style>\n",
       "<table border=\"1\" class=\"dataframe\">\n",
       "  <thead>\n",
       "    <tr style=\"text-align: right;\">\n",
       "      <th></th>\n",
       "      <th>statistical value</th>\n",
       "    </tr>\n",
       "  </thead>\n",
       "  <tbody>\n",
       "    <tr>\n",
       "      <th>median</th>\n",
       "      <td>3</td>\n",
       "    </tr>\n",
       "    <tr>\n",
       "      <th>mean</th>\n",
       "      <td>8.93085</td>\n",
       "    </tr>\n",
       "    <tr>\n",
       "      <th>std</th>\n",
       "      <td>16.8023</td>\n",
       "    </tr>\n",
       "    <tr>\n",
       "      <th>interactions count</th>\n",
       "      <td>45993</td>\n",
       "    </tr>\n",
       "    <tr>\n",
       "      <th>max interactions by user</th>\n",
       "      <td>364</td>\n",
       "    </tr>\n",
       "    <tr>\n",
       "      <th>max views</th>\n",
       "      <td>937</td>\n",
       "    </tr>\n",
       "    <tr>\n",
       "      <th>most viewed article</th>\n",
       "      <td>1429.0</td>\n",
       "    </tr>\n",
       "    <tr>\n",
       "      <th>viewed articles count</th>\n",
       "      <td>714</td>\n",
       "    </tr>\n",
       "    <tr>\n",
       "      <th>unique users count</th>\n",
       "      <td>5148</td>\n",
       "    </tr>\n",
       "    <tr>\n",
       "      <th>unique articles count</th>\n",
       "      <td>1051</td>\n",
       "    </tr>\n",
       "  </tbody>\n",
       "</table>\n",
       "</div>"
      ],
      "text/plain": [
       "                         statistical value\n",
       "median                                   3\n",
       "mean                               8.93085\n",
       "std                                16.8023\n",
       "interactions count                   45993\n",
       "max interactions by user               364\n",
       "max views                              937\n",
       "most viewed article                 1429.0\n",
       "viewed articles count                  714\n",
       "unique users count                    5148\n",
       "unique articles count                 1051"
      ]
     },
     "execution_count": 19,
     "metadata": {},
     "output_type": "execute_result"
    }
   ],
   "source": [
    "# Show statistical data\n",
    "\n",
    "stat = pd.DataFrame(\n",
    "    data = [\n",
    "        median_val,\n",
    "        data['count'].mean(),\n",
    "        data['count'].std(),\n",
    "        user_article_interactions,\n",
    "        max_views_by_user,\n",
    "        max_views,\n",
    "        most_viewed_article_id,\n",
    "        unique_articles,\n",
    "        unique_users,\n",
    "        total_articles\n",
    "    ],\n",
    "    columns = ['statistical value'],\n",
    "    index = [\n",
    "        'median', \n",
    "        'mean', \n",
    "        'std', \n",
    "        'interactions count', \n",
    "        'max interactions by user',\n",
    "        'max views',\n",
    "        'most viewed article',\n",
    "        'viewed articles count',\n",
    "        'unique users count',\n",
    "        'unique articles count'\n",
    "    ])\n",
    "stat"
   ]
  },
  {
   "cell_type": "code",
   "execution_count": 20,
   "metadata": {},
   "outputs": [
    {
     "data": {
      "text/html": [
       "<div>\n",
       "<style scoped>\n",
       "    .dataframe tbody tr th:only-of-type {\n",
       "        vertical-align: middle;\n",
       "    }\n",
       "\n",
       "    .dataframe tbody tr th {\n",
       "        vertical-align: top;\n",
       "    }\n",
       "\n",
       "    .dataframe thead th {\n",
       "        text-align: right;\n",
       "    }\n",
       "</style>\n",
       "<table border=\"1\" class=\"dataframe\">\n",
       "  <thead>\n",
       "    <tr style=\"text-align: right;\">\n",
       "      <th></th>\n",
       "      <th>article_id</th>\n",
       "      <th>title</th>\n",
       "      <th>user_id</th>\n",
       "    </tr>\n",
       "  </thead>\n",
       "  <tbody>\n",
       "    <tr>\n",
       "      <th>0</th>\n",
       "      <td>1430.0</td>\n",
       "      <td>using pixiedust for fast, flexible, and easier...</td>\n",
       "      <td>1</td>\n",
       "    </tr>\n",
       "    <tr>\n",
       "      <th>1</th>\n",
       "      <td>1314.0</td>\n",
       "      <td>healthcare python streaming application demo</td>\n",
       "      <td>2</td>\n",
       "    </tr>\n",
       "    <tr>\n",
       "      <th>2</th>\n",
       "      <td>1429.0</td>\n",
       "      <td>use deep learning for image classification</td>\n",
       "      <td>3</td>\n",
       "    </tr>\n",
       "    <tr>\n",
       "      <th>3</th>\n",
       "      <td>1338.0</td>\n",
       "      <td>ml optimization using cognitive assistant</td>\n",
       "      <td>4</td>\n",
       "    </tr>\n",
       "    <tr>\n",
       "      <th>4</th>\n",
       "      <td>1276.0</td>\n",
       "      <td>deploy your python model as a restful api</td>\n",
       "      <td>5</td>\n",
       "    </tr>\n",
       "  </tbody>\n",
       "</table>\n",
       "</div>"
      ],
      "text/plain": [
       "   article_id                                              title  user_id\n",
       "0      1430.0  using pixiedust for fast, flexible, and easier...        1\n",
       "1      1314.0       healthcare python streaming application demo        2\n",
       "2      1429.0         use deep learning for image classification        3\n",
       "3      1338.0          ml optimization using cognitive assistant        4\n",
       "4      1276.0          deploy your python model as a restful api        5"
      ]
     },
     "execution_count": 20,
     "metadata": {},
     "output_type": "execute_result"
    }
   ],
   "source": [
    "## No need to change the code here - this will be helpful for later parts of the notebook\n",
    "# Run this cell to map the user email to a user_id column and remove the email column\n",
    "\n",
    "def email_mapper():\n",
    "    coded_dict = dict()\n",
    "    cter = 1\n",
    "    email_encoded = []\n",
    "    \n",
    "    for val in df['email']:\n",
    "        if val not in coded_dict:\n",
    "            coded_dict[val] = cter\n",
    "            cter+=1\n",
    "        \n",
    "        email_encoded.append(coded_dict[val])\n",
    "    return email_encoded\n",
    "\n",
    "email_encoded = email_mapper()\n",
    "del df['email']\n",
    "df['user_id'] = email_encoded\n",
    "\n",
    "# show header\n",
    "df.head()"
   ]
  },
  {
   "cell_type": "code",
   "execution_count": 21,
   "metadata": {},
   "outputs": [
    {
     "name": "stdout",
     "output_type": "stream",
     "text": [
      "It looks like you have everything right here! Nice job!\n"
     ]
    }
   ],
   "source": [
    "## If you stored all your results in the variable names above, \n",
    "## you shouldn't need to change anything in this cell\n",
    "\n",
    "sol_1_dict = {\n",
    "    '`50% of individuals have _____ or fewer interactions.`': median_val,\n",
    "    '`The total number of user-article interactions in the dataset is ______.`': user_article_interactions,\n",
    "    '`The maximum number of user-article interactions by any 1 user is ______.`': max_views_by_user,\n",
    "    '`The most viewed article in the dataset was viewed _____ times.`': max_views,\n",
    "    '`The article_id of the most viewed article is ______.`': most_viewed_article_id,\n",
    "    '`The number of unique articles that have at least 1 rating ______.`': unique_articles,\n",
    "    '`The number of unique users in the dataset is ______`': unique_users,\n",
    "    '`The number of unique articles on the IBM platform`': total_articles\n",
    "}\n",
    "\n",
    "# Test your dictionary against the solution\n",
    "t.sol_1_test(sol_1_dict)"
   ]
  },
  {
   "cell_type": "markdown",
   "metadata": {},
   "source": [
    "### <a class=\"anchor\" id=\"Rank\">Part II: Rank-Based Recommendations</a>\n",
    "\n",
    "Unlike in the earlier lessons, we don't actually have ratings for whether a user liked an article or not.  We only know that a user has interacted with an article.  In these cases, the popularity of an article can really only be based on how often an article was interacted with.\n",
    "\n",
    "`1.` Fill in the function below to return the **n** top articles ordered with most interactions as the top. Test your function using the tests below."
   ]
  },
  {
   "cell_type": "code",
   "execution_count": 60,
   "metadata": {},
   "outputs": [],
   "source": [
    "def get_top_article_data(n, df=df):\n",
    "    '''\n",
    "    INPUT:\n",
    "    n - (int) the number of top articles to return\n",
    "    df - (pandas dataframe) df as defined at the top of the notebook \n",
    "    \n",
    "    OUTPUT:\n",
    "    top_articles - A DataFrame of the top 'n' article titles with\n",
    "                   columns: \n",
    "                       - article_id,\n",
    "                       - title\n",
    "                       - count (number of article views)\n",
    "    \n",
    "    '''\n",
    "    data = df.groupby(['article_id', 'title']).count().reset_index()\n",
    "    data = data.rename({ 'user_id': 'count'}, axis=1) \n",
    "    \n",
    "    return data.sort_values(by='count', ascending=False).iloc[0:n, :]\n",
    "    \n",
    "\n",
    "def get_top_articles(n, df=df):\n",
    "    '''\n",
    "    INPUT:\n",
    "    n - (int) the number of top articles to return\n",
    "    df - (pandas dataframe) df as defined at the top of the notebook \n",
    "    \n",
    "    OUTPUT:\n",
    "    top_articles - (list) A list of the top 'n' article titles \n",
    "    \n",
    "    '''\n",
    "    # Return the top article titles from df (not df_content)\n",
    "    return list(get_top_article_data(n).iloc[:, 1])\n",
    "\n",
    "\n",
    "def get_top_article_ids(n, df=df):\n",
    "    '''\n",
    "    INPUT:\n",
    "    n - (int) the number of top articles to return\n",
    "    df - (pandas dataframe) df as defined at the top of the notebook \n",
    "    \n",
    "    OUTPUT:\n",
    "    top_articles - (list) A list of the top 'n' article titles \n",
    "    \n",
    "    '''\n",
    "    # Return the top article ids\n",
    "    return [str(i) for i in get_top_article_data(n)['article_id']]\n",
    "\n",
    "    # return list(get_top_article_data(n).iloc[:, 0])"
   ]
  },
  {
   "cell_type": "code",
   "execution_count": 61,
   "metadata": {},
   "outputs": [
    {
     "name": "stdout",
     "output_type": "stream",
     "text": [
      "['use deep learning for image classification', 'insights from new york car accident reports', 'visualize car data with brunel', 'use xgboost, scikit-learn & ibm watson machine learning apis', 'predicting churn with the spss random tree algorithm', 'healthcare python streaming application demo', 'finding optimal locations of new store using decision optimization', 'apache spark lab, part 1: basic concepts', 'analyze energy consumption in buildings', 'gosales transactions for logistic regression model']\n",
      "['1429.0', '1330.0', '1431.0', '1427.0', '1364.0', '1314.0', '1293.0', '1170.0', '1162.0', '1304.0']\n"
     ]
    }
   ],
   "source": [
    "print(get_top_articles(10))\n",
    "print(get_top_article_ids(10))"
   ]
  },
  {
   "cell_type": "code",
   "execution_count": 62,
   "metadata": {},
   "outputs": [
    {
     "name": "stdout",
     "output_type": "stream",
     "text": [
      "Your top_5 looks like the solution list! Nice job.\n",
      "Your top_10 looks like the solution list! Nice job.\n",
      "Your top_20 looks like the solution list! Nice job.\n"
     ]
    }
   ],
   "source": [
    "# Test your function by returning the top 5, 10, and 20 articles\n",
    "top_5 = get_top_articles(5)\n",
    "top_10 = get_top_articles(10)\n",
    "top_20 = get_top_articles(20)\n",
    "\n",
    "# Test each of your three lists from above\n",
    "t.sol_2_test(get_top_articles)"
   ]
  },
  {
   "cell_type": "markdown",
   "metadata": {},
   "source": [
    "### <a class=\"anchor\" id=\"User-User\">Part III: User-User Based Collaborative Filtering</a>\n",
    "\n",
    "\n",
    "`1.` Use the function below to reformat the **df** dataframe to be shaped with users as the rows and articles as the columns.  \n",
    "\n",
    "* Each **user** should only appear in each **row** once.\n",
    "\n",
    "\n",
    "* Each **article** should only show up in one **column**.  \n",
    "\n",
    "\n",
    "* **If a user has interacted with an article, then place a 1 where the user-row meets for that article-column**.  It does not matter how many times a user has interacted with the article, all entries where a user has interacted with an article should be a 1.  \n",
    "\n",
    "\n",
    "* **If a user has not interacted with an item, then place a zero where the user-row meets for that article-column**. \n",
    "\n",
    "Use the tests to make sure the basic structure of your matrix matches what is expected by the solution."
   ]
  },
  {
   "cell_type": "code",
   "execution_count": 25,
   "metadata": {},
   "outputs": [],
   "source": [
    "# create the user-article matrix with 1's and 0's\n",
    "\n",
    "def create_user_item_matrix(df):\n",
    "    '''\n",
    "    INPUT:\n",
    "    df - pandas dataframe with article_id, title, user_id columns\n",
    "    \n",
    "    OUTPUT:\n",
    "    user_item - user item matrix \n",
    "    \n",
    "    Description:\n",
    "    Return a matrix with user ids as rows and article ids on the columns with 1 values where a user interacted with \n",
    "    an article and a 0 otherwise\n",
    "    '''\n",
    "    df2 = df[['user_id','article_id']].set_index('user_id')\n",
    "    df2['value'] = 1\n",
    "    user_item = pd.pivot_table(df2, values='value', index='user_id', \n",
    "                               columns='article_id', aggfunc=np.min, fill_value=0)\n",
    "    \n",
    "    # return the user_item matrix \n",
    "    return user_item\n",
    "\n",
    "\n",
    "user_item = create_user_item_matrix(df)"
   ]
  },
  {
   "cell_type": "code",
   "execution_count": 26,
   "metadata": {},
   "outputs": [
    {
     "name": "stdout",
     "output_type": "stream",
     "text": [
      "You have passed our quick tests!  Please proceed!\n"
     ]
    }
   ],
   "source": [
    "## Tests: You should just need to run this cell.  Don't change the code.\n",
    "assert user_item.shape[0] == 5149, \"Oops!  The number of users in the user-article matrix doesn't look right.\"\n",
    "assert user_item.shape[1] == 714, \"Oops!  The number of articles in the user-article matrix doesn't look right.\"\n",
    "assert user_item.sum(axis=1)[1] == 36, \"Oops!  The number of articles seen by user 1 doesn't look right.\"\n",
    "print(\"You have passed our quick tests!  Please proceed!\")"
   ]
  },
  {
   "cell_type": "code",
   "execution_count": 27,
   "metadata": {},
   "outputs": [
    {
     "data": {
      "text/plain": [
       "(5149, 714)"
      ]
     },
     "execution_count": 27,
     "metadata": {},
     "output_type": "execute_result"
    }
   ],
   "source": [
    "user_item.shape"
   ]
  },
  {
   "cell_type": "markdown",
   "metadata": {},
   "source": [
    "`2.` Complete the function below which should take a user_id and provide an ordered list of the most similar users to that user (from most similar to least similar).  The returned result should not contain the provided user_id, as we know that each user is similar to him/herself. Because the results for each user here are binary, it (perhaps) makes sense to compute similarity as the dot product of two users. \n",
    "\n",
    "Use the tests to test your function."
   ]
  },
  {
   "cell_type": "code",
   "execution_count": 28,
   "metadata": {},
   "outputs": [],
   "source": [
    "def create_user_matrix(user_item=user_item):\n",
    "    '''\n",
    "    Computes the similarity of every pair of users based on the dot product\n",
    "    INPUT\n",
    "    user_item - (pandas dataframe) matrix of users by articles: \n",
    "        1's when a user has interacted with an article, 0 otherwise\n",
    "    OUTPUT:\n",
    "    '''\n",
    "    # Create matrix using dot product\n",
    "    user_matrix = np.dot(user_item, user_item.T)\n",
    "    \n",
    "    return user_matrix"
   ]
  },
  {
   "cell_type": "code",
   "execution_count": 29,
   "metadata": {},
   "outputs": [],
   "source": [
    "# Create user matrix (time consuming)\n",
    "\n",
    "user_matrix = create_user_matrix()"
   ]
  },
  {
   "cell_type": "code",
   "execution_count": 69,
   "metadata": {},
   "outputs": [
    {
     "data": {
      "text/plain": [
       "(5149, 5149)"
      ]
     },
     "execution_count": 69,
     "metadata": {},
     "output_type": "execute_result"
    }
   ],
   "source": [
    "user_matrix.shape"
   ]
  },
  {
   "cell_type": "code",
   "execution_count": 30,
   "metadata": {},
   "outputs": [],
   "source": [
    "def find_similar_users(user_id, user_matrix=user_matrix, user_item=user_item):\n",
    "    '''\n",
    "    INPUT:\n",
    "    user_id - (int) a user_id\n",
    "    user_matrix            \n",
    "    \n",
    "    OUTPUT:\n",
    "    similar_users - (list) an ordered list where the closest users (largest dot product users)\n",
    "                    are listed first\n",
    "    '''\n",
    "    # compute similarity of each user to the provided user\n",
    "    # done by create_user_matrix\n",
    "    \n",
    "    # get user vektor (row)\n",
    "    user_vektor = user_matrix[user_id - 1] # decrease user_id to obtain matrix index\n",
    "    \n",
    "    # create Series using user_vektor and corresponding user_id indices\n",
    "    user_data = pd.Series(user_vektor.T, index=user_item.index)\n",
    "    \n",
    "    # remove self-user and sort by descending order\n",
    "    user_data = user_data[user_data.index != user_id].sort_values(ascending=False)\n",
    "    \n",
    "    # exclude zero similarity\n",
    "    most_similar_users = user_data[user_data > 0]\n",
    "    \n",
    "    return list(most_similar_users.index) # return a list of the users in order from most to least similar\n",
    "        "
   ]
  },
  {
   "cell_type": "code",
   "execution_count": 31,
   "metadata": {},
   "outputs": [
    {
     "name": "stdout",
     "output_type": "stream",
     "text": [
      "The 10 most similar users to user 1 are: [3933, 23, 3782, 203, 4459, 3870, 131, 4201, 46, 3697]\n",
      "The 5 most similar users to user 3933 are: [1, 3782, 23, 203, 4459]\n",
      "The 3 most similar users to user 46 are: [4201, 3782, 23]\n"
     ]
    }
   ],
   "source": [
    "# Do a spot check of your function\n",
    "print(\"The 10 most similar users to user 1 are: {}\".format(find_similar_users(1)[:10]))\n",
    "print(\"The 5 most similar users to user 3933 are: {}\".format(find_similar_users(3933)[:5]))\n",
    "print(\"The 3 most similar users to user 46 are: {}\".format(find_similar_users(46)[:3]))"
   ]
  },
  {
   "cell_type": "markdown",
   "metadata": {},
   "source": [
    "`3.` Now that you have a function that provides the most similar users to each user, you will want to use these users to find articles you can recommend.  Complete the functions below to return the articles you would recommend to each user. "
   ]
  },
  {
   "cell_type": "code",
   "execution_count": 29,
   "metadata": {},
   "outputs": [
    {
     "data": {
      "text/html": [
       "<div>\n",
       "<style scoped>\n",
       "    .dataframe tbody tr th:only-of-type {\n",
       "        vertical-align: middle;\n",
       "    }\n",
       "\n",
       "    .dataframe tbody tr th {\n",
       "        vertical-align: top;\n",
       "    }\n",
       "\n",
       "    .dataframe thead th {\n",
       "        text-align: right;\n",
       "    }\n",
       "</style>\n",
       "<table border=\"1\" class=\"dataframe\">\n",
       "  <thead>\n",
       "    <tr style=\"text-align: right;\">\n",
       "      <th></th>\n",
       "      <th>title</th>\n",
       "      <th>user_id</th>\n",
       "      <th>doc_body</th>\n",
       "      <th>doc_description</th>\n",
       "      <th>doc_full_name</th>\n",
       "      <th>doc_status</th>\n",
       "    </tr>\n",
       "    <tr>\n",
       "      <th>article_id</th>\n",
       "      <th></th>\n",
       "      <th></th>\n",
       "      <th></th>\n",
       "      <th></th>\n",
       "      <th></th>\n",
       "      <th></th>\n",
       "    </tr>\n",
       "  </thead>\n",
       "  <tbody>\n",
       "    <tr>\n",
       "      <th>1176.0</th>\n",
       "      <td>build a python app on the streaming analytics ...</td>\n",
       "      <td>290</td>\n",
       "      <td>NaN</td>\n",
       "      <td>NaN</td>\n",
       "      <td>NaN</td>\n",
       "      <td>NaN</td>\n",
       "    </tr>\n",
       "    <tr>\n",
       "      <th>1176.0</th>\n",
       "      <td>build a python app on the streaming analytics ...</td>\n",
       "      <td>406</td>\n",
       "      <td>NaN</td>\n",
       "      <td>NaN</td>\n",
       "      <td>NaN</td>\n",
       "      <td>NaN</td>\n",
       "    </tr>\n",
       "    <tr>\n",
       "      <th>1176.0</th>\n",
       "      <td>build a python app on the streaming analytics ...</td>\n",
       "      <td>170</td>\n",
       "      <td>NaN</td>\n",
       "      <td>NaN</td>\n",
       "      <td>NaN</td>\n",
       "      <td>NaN</td>\n",
       "    </tr>\n",
       "    <tr>\n",
       "      <th>1176.0</th>\n",
       "      <td>build a python app on the streaming analytics ...</td>\n",
       "      <td>663</td>\n",
       "      <td>NaN</td>\n",
       "      <td>NaN</td>\n",
       "      <td>NaN</td>\n",
       "      <td>NaN</td>\n",
       "    </tr>\n",
       "    <tr>\n",
       "      <th>1176.0</th>\n",
       "      <td>build a python app on the streaming analytics ...</td>\n",
       "      <td>420</td>\n",
       "      <td>NaN</td>\n",
       "      <td>NaN</td>\n",
       "      <td>NaN</td>\n",
       "      <td>NaN</td>\n",
       "    </tr>\n",
       "  </tbody>\n",
       "</table>\n",
       "</div>"
      ],
      "text/plain": [
       "                                                        title  user_id  \\\n",
       "article_id                                                               \n",
       "1176.0      build a python app on the streaming analytics ...      290   \n",
       "1176.0      build a python app on the streaming analytics ...      406   \n",
       "1176.0      build a python app on the streaming analytics ...      170   \n",
       "1176.0      build a python app on the streaming analytics ...      663   \n",
       "1176.0      build a python app on the streaming analytics ...      420   \n",
       "\n",
       "           doc_body doc_description doc_full_name doc_status  \n",
       "article_id                                                    \n",
       "1176.0          NaN             NaN           NaN        NaN  \n",
       "1176.0          NaN             NaN           NaN        NaN  \n",
       "1176.0          NaN             NaN           NaN        NaN  \n",
       "1176.0          NaN             NaN           NaN        NaN  \n",
       "1176.0          NaN             NaN           NaN        NaN  "
      ]
     },
     "execution_count": 29,
     "metadata": {},
     "output_type": "execute_result"
    }
   ],
   "source": [
    "# ATTENTION!\n",
    "#   The df and df_content does not match by article_id !!!\n",
    "\n",
    "joined = df.set_index('article_id').join(df_content.set_index('article_id'))\n",
    "joined.loc[1176].iloc[:5]"
   ]
  },
  {
   "cell_type": "code",
   "execution_count": 30,
   "metadata": {},
   "outputs": [
    {
     "data": {
      "text/html": [
       "<div>\n",
       "<style scoped>\n",
       "    .dataframe tbody tr th:only-of-type {\n",
       "        vertical-align: middle;\n",
       "    }\n",
       "\n",
       "    .dataframe tbody tr th {\n",
       "        vertical-align: top;\n",
       "    }\n",
       "\n",
       "    .dataframe thead th {\n",
       "        text-align: right;\n",
       "    }\n",
       "</style>\n",
       "<table border=\"1\" class=\"dataframe\">\n",
       "  <thead>\n",
       "    <tr style=\"text-align: right;\">\n",
       "      <th></th>\n",
       "      <th>doc_body</th>\n",
       "      <th>doc_description</th>\n",
       "      <th>doc_full_name</th>\n",
       "      <th>doc_status</th>\n",
       "      <th>article_id</th>\n",
       "    </tr>\n",
       "  </thead>\n",
       "  <tbody>\n",
       "  </tbody>\n",
       "</table>\n",
       "</div>"
      ],
      "text/plain": [
       "Empty DataFrame\n",
       "Columns: [doc_body, doc_description, doc_full_name, doc_status, article_id]\n",
       "Index: []"
      ]
     },
     "execution_count": 30,
     "metadata": {},
     "output_type": "execute_result"
    }
   ],
   "source": [
    "df_content[df_content['article_id'] == 1176]"
   ]
  },
  {
   "cell_type": "markdown",
   "metadata": {},
   "source": [
    "1. Find similar users of @user_id\n",
    "2. For each similar user:\n",
    "    2.1 Find new articles for @user_id\n",
    "   Until i = m\n",
    "\n",
    "\n",
    "\n"
   ]
  },
  {
   "cell_type": "code",
   "execution_count": 32,
   "metadata": {},
   "outputs": [],
   "source": [
    "def get_article_names(article_ids, df=df):\n",
    "    '''\n",
    "    INPUT:\n",
    "    article_ids - (list) a list of article ids\n",
    "    df - (pandas dataframe) df as defined at the top of the notebook\n",
    "    \n",
    "    OUTPUT:\n",
    "    article_names - (list) a list of article names associated with the list of article ids \n",
    "                    (this is identified by the title column)\n",
    "    '''\n",
    "    articles = df.groupby('article_id')['title'].min()\n",
    "    article_names = articles[articles.index.isin(article_ids)].values.tolist()\n",
    "    \n",
    "    return article_names # Return the article names associated with list of article ids\n",
    "\n",
    "\n",
    "def get_user_articles(user_id, user_item=user_item):\n",
    "    '''\n",
    "    INPUT:\n",
    "    user_id - (int) a user id\n",
    "    user_item - (pandas dataframe) matrix of users by articles: \n",
    "                1's when a user has interacted with an article, 0 otherwise\n",
    "    \n",
    "    OUTPUT:\n",
    "    article_ids - (list) a list of the article ids seen by the user\n",
    "    article_names - (list) a list of article names associated with the list of article ids \n",
    "                    (this is identified by the doc_full_name column in df_content)\n",
    "    \n",
    "    Description:\n",
    "    Provides a list of the article_ids and article titles that have been seen by a user\n",
    "    '''\n",
    "    ids = np.array((user_item.loc[user_id, user_item.loc[user_id] == 1].index))\n",
    "    article_ids = [str(i) for i in ids]  \n",
    "    article_names = get_article_names(article_ids)\n",
    "    \n",
    "    return article_ids, article_names # return the ids and names\n",
    "\n",
    "\n",
    "# TODO\n",
    "def user_user_recs(user_id, m=10):\n",
    "    '''\n",
    "    INPUT:\n",
    "    user_id - (int) a user id\n",
    "    m - (int) the number of recommendations you want for the user\n",
    "    \n",
    "    OUTPUT:\n",
    "    recs - (list) a list of recommendations for the user\n",
    "    \n",
    "    Description:\n",
    "    Loops through the users based on closeness to the input user_id\n",
    "    For each user - finds articles the user hasn't seen before and provides them as recs\n",
    "    Does this until m recommendations are found\n",
    "    \n",
    "    Notes:\n",
    "    Users who are the same closeness are chosen arbitrarily as the 'next' user\n",
    "    \n",
    "    For the user where the number of recommended articles starts below m \n",
    "    and ends exceeding m, the last items are chosen arbitrarily\n",
    "    \n",
    "    '''\n",
    "    # Get user's articles\n",
    "    user_article_ids, user_article_names = get_user_articles(user_id)\n",
    "    user_article_ids_set = set(user_article_ids)\n",
    "    \n",
    "    # Find similar users\n",
    "    similar_users = find_similar_users(user_id)\n",
    "\n",
    "    # Loop through the similar users\n",
    "    recs = []\n",
    "    for similar_id in similar_users:\n",
    "        if len(recs) < m:      \n",
    "            # Get articles of current similar user\n",
    "            article_ids, article_names = get_user_articles(similar_id)\n",
    "            \n",
    "            # Get diff articles (option A)\n",
    "            diff_ids = set(article_ids).difference(user_article_ids_set)\n",
    "            \n",
    "            # The diff articles (option B) - gives different result\n",
    "            # diff_ids = np.setdiff1d(np.array(article_ids), np.array(user_article_ids))\n",
    "            \n",
    "            recs.extend(list(diff_ids))\n",
    "        else:\n",
    "            break\n",
    "    \n",
    "    return recs[:m] # return your recommendations for this user_id   \n"
   ]
  },
  {
   "cell_type": "code",
   "execution_count": 33,
   "metadata": {},
   "outputs": [
    {
     "data": {
      "text/plain": [
       "['using machine learning to predict parking difficulty',\n",
       " 'how smart catalogs can turn the big data flood into an ocean of opportunity',\n",
       " 'web picks (week of 4 september 2017)',\n",
       " 'accelerate your workflow with dsx',\n",
       " 'challenges in deep learning',\n",
       " 'dsx: hybrid mode',\n",
       " 'healthcare python streaming application demo',\n",
       " 'intents & examples for ibm watson conversation',\n",
       " 'learn basics about notebooks and apache spark',\n",
       " 'the nurse assignment problem']"
      ]
     },
     "execution_count": 33,
     "metadata": {},
     "output_type": "execute_result"
    }
   ],
   "source": [
    "# Check Results\n",
    "get_article_names(user_user_recs(1, 10)) # Return 10 recommendations for user 1"
   ]
  },
  {
   "cell_type": "code",
   "execution_count": 34,
   "metadata": {},
   "outputs": [
    {
     "name": "stdout",
     "output_type": "stream",
     "text": [
      "If this is all you see, you passed all of our tests!  Nice job!\n"
     ]
    }
   ],
   "source": [
    "# Test your functions here - No need to change this code - just run this cell\n",
    "assert set(get_article_names(['1024.0', '1176.0', '1305.0', '1314.0', '1422.0', '1427.0'])) == set(['using deep learning to reconstruct high-resolution audio', 'build a python app on the streaming analytics service', 'gosales transactions for naive bayes model', 'healthcare python streaming application demo', 'use r dataframes & ibm watson natural language understanding', 'use xgboost, scikit-learn & ibm watson machine learning apis']), \"Oops! Your the get_article_names function doesn't work quite how we expect.\"\n",
    "assert set(get_article_names(['1320.0', '232.0', '844.0'])) == set(['housing (2015): united states demographic measures','self-service data preparation with ibm data refinery','use the cloudant-spark connector in python notebook']), \"Oops! Your the get_article_names function doesn't work quite how we expect.\"\n",
    "assert set(get_user_articles(20)[0]) == set(['1320.0', '232.0', '844.0'])\n",
    "assert set(get_user_articles(20)[1]) == set(['housing (2015): united states demographic measures', 'self-service data preparation with ibm data refinery','use the cloudant-spark connector in python notebook'])\n",
    "assert set(get_user_articles(2)[0]) == set(['1024.0', '1176.0', '1305.0', '1314.0', '1422.0', '1427.0'])\n",
    "assert set(get_user_articles(2)[1]) == set(['using deep learning to reconstruct high-resolution audio', 'build a python app on the streaming analytics service', 'gosales transactions for naive bayes model', 'healthcare python streaming application demo', 'use r dataframes & ibm watson natural language understanding', 'use xgboost, scikit-learn & ibm watson machine learning apis'])\n",
    "print(\"If this is all you see, you passed all of our tests!  Nice job!\")"
   ]
  },
  {
   "cell_type": "markdown",
   "metadata": {},
   "source": [
    "`4.` Now we are going to improve the consistency of the **user_user_recs** function from above.  \n",
    "\n",
    "* Instead of arbitrarily choosing when we obtain users who are all the same closeness to a given user - choose the users that have the most total article interactions before choosing those with fewer article interactions.\n",
    "\n",
    "\n",
    "* Instead of arbitrarily choosing articles from the user where the number of recommended articles starts below m and ends exceeding m, choose articles with the articles with the most total interactions before choosing those with fewer total interactions. This ranking should be  what would be obtained from the **top_articles** function you wrote earlier."
   ]
  },
  {
   "cell_type": "code",
   "execution_count": 38,
   "metadata": {},
   "outputs": [],
   "source": [
    "def get_top_sorted_users(user_id, df=df, user_item=user_item):\n",
    "    '''\n",
    "    INPUT:\n",
    "    user_id - (int)\n",
    "    df - (pandas dataframe) df as defined at the top of the notebook \n",
    "    user_item - (pandas dataframe) matrix of users by articles: \n",
    "            1's when a user has interacted with an article, 0 otherwise\n",
    "    \n",
    "            \n",
    "    OUTPUT:\n",
    "    neighbors_df - (pandas dataframe) a dataframe with:\n",
    "                    neighbor_id - is a neighbor user_id\n",
    "                    similarity - measure of the similarity of each user to the provided user_id\n",
    "                    num_interactions - the number of articles viewed by the user - if a u\n",
    "                    \n",
    "    Other Details - sort the neighbors_df by the similarity and then by number of interactions where \n",
    "                    highest of each is higher in the dataframe\n",
    "     \n",
    "    '''\n",
    "    # Create neighbors dataframe\n",
    "    neighbors_df = pd.DataFrame(\n",
    "        data = {\n",
    "            'neighbor_id': user_item.index,\n",
    "            'similarity': user_matrix[user_id - 1]\n",
    "        },\n",
    "        index = user_item.index\n",
    "    )\n",
    "    \n",
    "    # Exclude self user\n",
    "    neighbors_df = neighbors_df[neighbors_df['neighbor_id'] != user_id]\n",
    "    \n",
    "    # Calc all user interactions with items\n",
    "    all_interactions = df.groupby(['user_id'])['article_id'].count()\n",
    "    \n",
    "    # Add number of interactions for neighbor user\n",
    "    neighbors_df['num_interactions'] = neighbors_df['neighbor_id'] \\\n",
    "        .apply(lambda x: all_interactions.loc[x])\n",
    "    \n",
    "    # Return the ordered dataframe specified in the doc_string\n",
    "    return neighbors_df \\\n",
    "        .sort_values(by=['similarity', 'num_interactions'], ascending=False)\n",
    "\n",
    "\n",
    "def user_user_recs_part2(user_id, m=10):\n",
    "    '''\n",
    "    INPUT:\n",
    "    user_id - (int) a user id\n",
    "    m - (int) the number of recommendations you want for the user\n",
    "    \n",
    "    OUTPUT:\n",
    "    recs - (list) a list of recommendations for the user by article id\n",
    "    rec_names - (list) a list of recommendations for the user by article title\n",
    "    \n",
    "    Description:\n",
    "    Loops through the users based on closeness to the input user_id\n",
    "    For each user - finds articles the user hasn't seen before and provides them as recs\n",
    "    Does this until m recommendations are found\n",
    "    \n",
    "    Notes:\n",
    "    * Choose the users that have the most total article interactions \n",
    "    before choosing those with fewer article interactions.\n",
    "\n",
    "    * Choose articles with the articles with the most total interactions \n",
    "    before choosing those with fewer total interactions. \n",
    "   \n",
    "    '''\n",
    "       \n",
    "    # Calc all user interactions with items\n",
    "    #all_user_interactions = df.groupby(['user_id'])['article_id'].count()\n",
    "    \n",
    "    # Calc all article interactions\n",
    "    all_article_interact = df.groupby(['article_id'])['article_id'].count()\n",
    "    \n",
    "    # Get user's articles\n",
    "    user_article_ids, user_article_names = get_user_articles(user_id)\n",
    "    user_article_ids_set = set(user_article_ids)\n",
    "    \n",
    "    # Find similar users\n",
    "    similar_users_df = get_top_sorted_users(user_id)\n",
    "\n",
    "    # Loop through the similar users\n",
    "    recs = []\n",
    "    for similar_id in similar_users_df['neighbor_id']:\n",
    "        if len(recs) < m:      \n",
    "            # Get articles of current similar user\n",
    "            article_ids, article_names = get_user_articles(similar_id)\n",
    "            \n",
    "            # Get diff articles (option A)\n",
    "            diff_ids = set(article_ids).difference(user_article_ids_set)\n",
    "            \n",
    "            # Articles with the most total interactions first\n",
    "            articles = all_article_interact[all_article_interact.index.astype(str).isin(diff_ids)]\n",
    "            \n",
    "            # Add all articles, we'll use slicing later\n",
    "            recs.extend(articles.sort_values(ascending=False).index.values.astype(str))\n",
    "\n",
    "        else:\n",
    "            break\n",
    "    \n",
    "    recs = recs[:m]\n",
    "    rec_names = get_article_names(recs)\n",
    "    \n",
    "    return recs, rec_names  # return your recommendations for this user_id  \n",
    "    "
   ]
  },
  {
   "cell_type": "code",
   "execution_count": 39,
   "metadata": {},
   "outputs": [
    {
     "name": "stdout",
     "output_type": "stream",
     "text": [
      "['1330.0', '1364.0', '1314.0', '1162.0', '1304.0']\n",
      "['analyze energy consumption in buildings', 'gosales transactions for logistic regression model', 'healthcare python streaming application demo', 'insights from new york car accident reports', 'predicting churn with the spss random tree algorithm']\n"
     ]
    }
   ],
   "source": [
    "recs, rec_names = user_user_recs_part2(1, 5)\n",
    "print(recs)\n",
    "print(rec_names)"
   ]
  },
  {
   "cell_type": "code",
   "execution_count": 40,
   "metadata": {},
   "outputs": [
    {
     "name": "stdout",
     "output_type": "stream",
     "text": [
      "The top 10 recommendations for user 20 are the following article ids:\n",
      "['1330.0', '1427.0', '1364.0', '1170.0', '1162.0', '1304.0', '1351.0', '1160.0', '1354.0', '1368.0']\n",
      "\n",
      "The top 10 recommendations for user 20 are the following article names:\n",
      "['analyze accident reports on amazon emr spark', 'analyze energy consumption in buildings', 'apache spark lab, part 1: basic concepts', 'gosales transactions for logistic regression model', 'insights from new york car accident reports', 'model bike sharing data with spss', 'movie recommender system with spark machine learning', 'predicting churn with the spss random tree algorithm', 'putting a human face on machine learning', 'use xgboost, scikit-learn & ibm watson machine learning apis']\n"
     ]
    }
   ],
   "source": [
    "# Quick spot check - don't change this code - just use it to test your functions\n",
    "rec_ids, rec_names = user_user_recs_part2(20, 10)\n",
    "print(\"The top 10 recommendations for user 20 are the following article ids:\")\n",
    "print(rec_ids)\n",
    "print()\n",
    "print(\"The top 10 recommendations for user 20 are the following article names:\")\n",
    "print(rec_names)"
   ]
  },
  {
   "cell_type": "markdown",
   "metadata": {},
   "source": [
    "`5.` Use your functions from above to correctly fill in the solutions to the dictionary below.  Then test your dictionary against the solution.  Provide the code you need to answer each following the comments below."
   ]
  },
  {
   "cell_type": "code",
   "execution_count": 43,
   "metadata": {},
   "outputs": [],
   "source": [
    "### Tests with a dictionary of results\n",
    "\n",
    "# Find the user that is most similar to user 1 \n",
    "user1_most_sim = find_similar_users(1)[0]\n",
    "\n",
    "# Find the 10th most similar user to user 131\n",
    "user131_10th_sim = find_similar_users(131)[9]"
   ]
  },
  {
   "cell_type": "code",
   "execution_count": 44,
   "metadata": {},
   "outputs": [
    {
     "name": "stdout",
     "output_type": "stream",
     "text": [
      "This all looks good!  Nice job!\n"
     ]
    }
   ],
   "source": [
    "## Dictionary Test Here\n",
    "sol_5_dict = {\n",
    "    'The user that is most similar to user 1.': user1_most_sim, \n",
    "    'The user that is the 10th most similar to user 131': user131_10th_sim,\n",
    "}\n",
    "\n",
    "t.sol_5_test(sol_5_dict)"
   ]
  },
  {
   "cell_type": "markdown",
   "metadata": {},
   "source": [
    "`6.` If we were given a new user, which of the above functions would you be able to use to make recommendations?  Explain.  Can you think of a better way we might make recommendations?  Use the cell below to explain a better method for new users."
   ]
  },
  {
   "cell_type": "markdown",
   "metadata": {},
   "source": [
    "**Provide your response here.**"
   ]
  },
  {
   "cell_type": "markdown",
   "metadata": {},
   "source": [
    "`7.` Using your existing functions, provide the top 10 recommended articles you would provide for the a new user below.  You can test your function against our thoughts to make sure we are all on the same page with how we might make a recommendation."
   ]
  },
  {
   "cell_type": "code",
   "execution_count": 63,
   "metadata": {},
   "outputs": [],
   "source": [
    "new_user = '0.0'\n",
    "\n",
    "# What would your recommendations be for this new user '0.0'?  As a new user, they have no observed articles.\n",
    "# Provide a list of the top 10 article ids you would give to \n",
    "\n",
    "# Your recommendations here\n",
    "new_user_recs = get_top_article_ids(10)"
   ]
  },
  {
   "cell_type": "code",
   "execution_count": 65,
   "metadata": {},
   "outputs": [
    {
     "name": "stdout",
     "output_type": "stream",
     "text": [
      "That's right!  Nice job!\n"
     ]
    }
   ],
   "source": [
    "assert set(new_user_recs) == set(['1314.0','1429.0','1293.0','1427.0','1162.0','1364.0','1304.0','1170.0','1431.0','1330.0']), \"Oops!  It makes sense that in this case we would want to recommend the most popular articles, because we don't know anything about these users.\"\n",
    "\n",
    "print(\"That's right!  Nice job!\")"
   ]
  },
  {
   "cell_type": "markdown",
   "metadata": {},
   "source": [
    "### <a class=\"anchor\" id=\"Content-Recs\">Part IV: Content Based Recommendations (EXTRA - NOT REQUIRED)</a>\n",
    "\n",
    "Another method we might use to make recommendations is to perform a ranking of the highest ranked articles associated with some term.  You might consider content to be the **doc_body**, **doc_description**, or **doc_full_name**.  There isn't one way to create a content based recommendation, especially considering that each of these columns hold content related information.  \n",
    "\n",
    "`1.` Use the function body below to create a content based recommender.  Since there isn't one right answer for this recommendation tactic, no test functions are provided.  Feel free to change the function inputs if you decide you want to try a method that requires more input values.  The input values are currently set with one idea in mind that you may use to make content based recommendations.  One additional idea is that you might want to choose the most popular recommendations that meet your 'content criteria', but again, there is a lot of flexibility in how you might make these recommendations.\n",
    "\n",
    "### This part is NOT REQUIRED to pass this project.  However, you may choose to take this on as an extra way to show off your skills."
   ]
  },
  {
   "cell_type": "code",
   "execution_count": null,
   "metadata": {
    "collapsed": true
   },
   "outputs": [],
   "source": [
    "def make_content_recs():\n",
    "    '''\n",
    "    INPUT:\n",
    "    \n",
    "    OUTPUT:\n",
    "    \n",
    "    '''"
   ]
  },
  {
   "cell_type": "markdown",
   "metadata": {},
   "source": [
    "`2.` Now that you have put together your content-based recommendation system, use the cell below to write a summary explaining how your content based recommender works.  Do you see any possible improvements that could be made to your function?  Is there anything novel about your content based recommender?\n",
    "\n",
    "### This part is NOT REQUIRED to pass this project.  However, you may choose to take this on as an extra way to show off your skills."
   ]
  },
  {
   "cell_type": "markdown",
   "metadata": {},
   "source": [
    "**Write an explanation of your content based recommendation system here.**"
   ]
  },
  {
   "cell_type": "markdown",
   "metadata": {},
   "source": [
    "`3.` Use your content-recommendation system to make recommendations for the below scenarios based on the comments.  Again no tests are provided here, because there isn't one right answer that could be used to find these content based recommendations.\n",
    "\n",
    "### This part is NOT REQUIRED to pass this project.  However, you may choose to take this on as an extra way to show off your skills."
   ]
  },
  {
   "cell_type": "code",
   "execution_count": null,
   "metadata": {
    "collapsed": true
   },
   "outputs": [],
   "source": [
    "# make recommendations for a brand new user\n",
    "\n",
    "\n",
    "# make a recommendations for a user who only has interacted with article id '1427.0'\n",
    "\n"
   ]
  },
  {
   "cell_type": "markdown",
   "metadata": {},
   "source": [
    "### <a class=\"anchor\" id=\"Matrix-Fact\">Part V: Matrix Factorization</a>\n",
    "\n",
    "In this part of the notebook, you will build use matrix factorization to make article recommendations to the users on the IBM Watson Studio platform.\n",
    "\n",
    "`1.` You should have already created a **user_item** matrix above in **question 1** of **Part III** above.  This first question here will just require that you run the cells to get things set up for the rest of **Part V** of the notebook. "
   ]
  },
  {
   "cell_type": "code",
   "execution_count": null,
   "metadata": {
    "collapsed": true
   },
   "outputs": [],
   "source": [
    "# Load the matrix here\n",
    "user_item_matrix = pd.read_pickle('user_item_matrix.p')"
   ]
  },
  {
   "cell_type": "code",
   "execution_count": null,
   "metadata": {
    "collapsed": true
   },
   "outputs": [],
   "source": [
    "# quick look at the matrix\n",
    "user_item_matrix.head()"
   ]
  },
  {
   "cell_type": "markdown",
   "metadata": {},
   "source": [
    "`2.` In this situation, you can use Singular Value Decomposition from [numpy](https://docs.scipy.org/doc/numpy-1.14.0/reference/generated/numpy.linalg.svd.html) on the user-item matrix.  Use the cell to perform SVD, and explain why this is different than in the lesson."
   ]
  },
  {
   "cell_type": "code",
   "execution_count": null,
   "metadata": {
    "collapsed": true
   },
   "outputs": [],
   "source": [
    "# Perform SVD on the User-Item Matrix Here\n",
    "\n",
    "u, s, vt = # use the built in to get the three matrices"
   ]
  },
  {
   "cell_type": "markdown",
   "metadata": {},
   "source": [
    "**Provide your response here.**"
   ]
  },
  {
   "cell_type": "markdown",
   "metadata": {},
   "source": [
    "`3.` Now for the tricky part, how do we choose the number of latent features to use?  Running the below cell, you can see that as the number of latent features increases, we obtain a lower error rate on making predictions for the 1 and 0 values in the user-item matrix.  Run the cell below to get an idea of how the accuracy improves as we increase the number of latent features."
   ]
  },
  {
   "cell_type": "code",
   "execution_count": null,
   "metadata": {
    "collapsed": true
   },
   "outputs": [],
   "source": [
    "num_latent_feats = np.arange(10,700+10,20)\n",
    "sum_errs = []\n",
    "\n",
    "for k in num_latent_feats:\n",
    "    # restructure with k latent features\n",
    "    s_new, u_new, vt_new = np.diag(s[:k]), u[:, :k], vt[:k, :]\n",
    "    \n",
    "    # take dot product\n",
    "    user_item_est = np.around(np.dot(np.dot(u_new, s_new), vt_new))\n",
    "    \n",
    "    # compute error for each prediction to actual value\n",
    "    diffs = np.subtract(user_item_matrix, user_item_est)\n",
    "    \n",
    "    # total errors and keep track of them\n",
    "    err = np.sum(np.sum(np.abs(diffs)))\n",
    "    sum_errs.append(err)\n",
    "    \n",
    "    \n",
    "plt.plot(num_latent_feats, 1 - np.array(sum_errs)/df.shape[0]);\n",
    "plt.xlabel('Number of Latent Features');\n",
    "plt.ylabel('Accuracy');\n",
    "plt.title('Accuracy vs. Number of Latent Features');"
   ]
  },
  {
   "cell_type": "markdown",
   "metadata": {},
   "source": [
    "`4.` From the above, we can't really be sure how many features to use, because simply having a better way to predict the 1's and 0's of the matrix doesn't exactly give us an indication of if we are able to make good recommendations.  Instead, we might split our dataset into a training and test set of data, as shown in the cell below.  \n",
    "\n",
    "Use the code from question 3 to understand the impact on accuracy of the training and test sets of data with different numbers of latent features. Using the split below: \n",
    "\n",
    "* How many users can we make predictions for in the test set?  \n",
    "* How many users are we not able to make predictions for because of the cold start problem?\n",
    "* How many articles can we make predictions for in the test set?  \n",
    "* How many articles are we not able to make predictions for because of the cold start problem?"
   ]
  },
  {
   "cell_type": "code",
   "execution_count": null,
   "metadata": {
    "collapsed": true
   },
   "outputs": [],
   "source": [
    "df_train = df.head(40000)\n",
    "df_test = df.tail(5993)\n",
    "\n",
    "def create_test_and_train_user_item(df_train, df_test):\n",
    "    '''\n",
    "    INPUT:\n",
    "    df_train - training dataframe\n",
    "    df_test - test dataframe\n",
    "    \n",
    "    OUTPUT:\n",
    "    user_item_train - a user-item matrix of the training dataframe \n",
    "                      (unique users for each row and unique articles for each column)\n",
    "    user_item_test - a user-item matrix of the testing dataframe \n",
    "                    (unique users for each row and unique articles for each column)\n",
    "    test_idx - all of the test user ids\n",
    "    test_arts - all of the test article ids\n",
    "    \n",
    "    '''\n",
    "    # Your code here\n",
    "    \n",
    "    return user_item_train, user_item_test, test_idx, test_arts\n",
    "\n",
    "user_item_train, user_item_test, test_idx, test_arts = create_test_and_train_user_item(df_train, df_test)"
   ]
  },
  {
   "cell_type": "code",
   "execution_count": null,
   "metadata": {
    "collapsed": true
   },
   "outputs": [],
   "source": [
    "# Replace the values in the dictionary below\n",
    "a = 662 \n",
    "b = 574 \n",
    "c = 20 \n",
    "d = 0 \n",
    "\n",
    "\n",
    "sol_4_dict = {\n",
    "    'How many users can we make predictions for in the test set?': # letter here, \n",
    "    'How many users in the test set are we not able to make predictions for because of the cold start problem?': # letter here, \n",
    "    'How many articles can we make predictions for in the test set?': # letter here,\n",
    "    'How many articles in the test set are we not able to make predictions for because of the cold start problem?': # letter here\n",
    "}\n",
    "\n",
    "t.sol_4_test(sol_4_dict)"
   ]
  },
  {
   "cell_type": "markdown",
   "metadata": {},
   "source": [
    "`5.` Now use the **user_item_train** dataset from above to find U, S, and V transpose using SVD. Then find the subset of rows in the **user_item_test** dataset that you can predict using this matrix decomposition with different numbers of latent features to see how many features makes sense to keep based on the accuracy on the test data. This will require combining what was done in questions `2` - `4`.\n",
    "\n",
    "Use the cells below to explore how well SVD works towards making predictions for recommendations on the test data.  "
   ]
  },
  {
   "cell_type": "code",
   "execution_count": null,
   "metadata": {
    "collapsed": true
   },
   "outputs": [],
   "source": [
    "# fit SVD on the user_item_train matrix\n",
    "u_train, s_train, vt_train = # fit svd similar to above then use the cells below"
   ]
  },
  {
   "cell_type": "code",
   "execution_count": null,
   "metadata": {
    "collapsed": true
   },
   "outputs": [],
   "source": [
    "# Use these cells to see how well you can use the training \n",
    "# decomposition to predict on test data"
   ]
  },
  {
   "cell_type": "code",
   "execution_count": null,
   "metadata": {
    "collapsed": true
   },
   "outputs": [],
   "source": []
  },
  {
   "cell_type": "code",
   "execution_count": null,
   "metadata": {
    "collapsed": true
   },
   "outputs": [],
   "source": []
  },
  {
   "cell_type": "markdown",
   "metadata": {
    "collapsed": true
   },
   "source": [
    "`6.` Use the cell below to comment on the results you found in the previous question. Given the circumstances of your results, discuss what you might do to determine if the recommendations you make with any of the above recommendation systems are an improvement to how users currently find articles? "
   ]
  },
  {
   "cell_type": "markdown",
   "metadata": {},
   "source": [
    "**Your response here.**"
   ]
  },
  {
   "cell_type": "markdown",
   "metadata": {
    "collapsed": true
   },
   "source": [
    "<a id='conclusions'></a>\n",
    "### Extras\n",
    "Using your workbook, you could now save your recommendations for each user, develop a class to make new predictions and update your results, and make a flask app to deploy your results.  These tasks are beyond what is required for this project.  However, from what you learned in the lessons, you certainly capable of taking these tasks on to improve upon your work here!\n",
    "\n",
    "\n",
    "## Conclusion\n",
    "\n",
    "> Congratulations!  You have reached the end of the Recommendations with IBM project! \n",
    "\n",
    "> **Tip**: Once you are satisfied with your work here, check over your report to make sure that it is satisfies all the areas of the [rubric](https://review.udacity.com/#!/rubrics/2322/view). You should also probably remove all of the \"Tips\" like this one so that the presentation is as polished as possible.\n",
    "\n",
    "\n",
    "## Directions to Submit\n",
    "\n",
    "> Before you submit your project, you need to create a .html or .pdf version of this notebook in the workspace here. To do that, run the code cell below. If it worked correctly, you should get a return code of 0, and you should see the generated .html file in the workspace directory (click on the orange Jupyter icon in the upper left).\n",
    "\n",
    "> Alternatively, you can download this report as .html via the **File** > **Download as** submenu, and then manually upload it into the workspace directory by clicking on the orange Jupyter icon in the upper left, then using the Upload button.\n",
    "\n",
    "> Once you've done this, you can submit your project by clicking on the \"Submit Project\" button in the lower right here. This will create and submit a zip file with this .ipynb doc and the .html or .pdf version you created. Congratulations! "
   ]
  },
  {
   "cell_type": "code",
   "execution_count": null,
   "metadata": {
    "collapsed": true
   },
   "outputs": [],
   "source": [
    "from subprocess import call\n",
    "call(['python', '-m', 'nbconvert', 'Recommendations_with_IBM.ipynb'])"
   ]
  }
 ],
 "metadata": {
  "kernelspec": {
   "display_name": "Python 3",
   "language": "python",
   "name": "python3"
  },
  "language_info": {
   "codemirror_mode": {
    "name": "ipython",
    "version": 3
   },
   "file_extension": ".py",
   "mimetype": "text/x-python",
   "name": "python",
   "nbconvert_exporter": "python",
   "pygments_lexer": "ipython3",
   "version": "3.6.3"
  }
 },
 "nbformat": 4,
 "nbformat_minor": 2
}
