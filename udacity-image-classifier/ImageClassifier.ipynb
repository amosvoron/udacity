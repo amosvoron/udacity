{
 "cells": [
  {
   "cell_type": "markdown",
   "metadata": {},
   "source": [
    "\n",
    "<h1 id=\"Developing-an-AI-application\">Developing an AI application<a class=\"anchor-link\" href=\"#Developing-an-AI-application\">¶</a></h1><p>Going forward, AI algorithms will be incorporated into more and more everyday applications. For example, you might want to include an image classifier in a smart phone app. To do this, you'd use a deep learning model trained on hundreds of thousands of images as part of the overall application architecture. A large part of software development in the future will be using these types of models as common parts of applications.</p>\n",
    "<p>In this project, you'll train an image classifier to recognize different species of flowers. You can imagine using something like this in a phone app that tells you the name of the flower your camera is looking at. In practice you'd train this classifier, then export it for use in your application. We'll be using <a href=\"http://www.robots.ox.ac.uk/~vgg/data/flowers/102/index.html\">this dataset</a> of 102 flower categories, you can see a few examples below.</p>\n",
    "<p><img src=\"assets/Flowers.png\" width=\"500px\"/></p>\n",
    "<p>The project is broken down into multiple steps:</p>\n",
    "<ul>\n",
    "<li>Load and preprocess the image dataset</li>\n",
    "<li>Train the image classifier on your dataset</li>\n",
    "<li>Use the trained classifier to predict image content</li>\n",
    "</ul>\n",
    "<p>We'll lead you through each part which you'll implement in Python.</p>\n",
    "<p>When you've completed this project, you'll have an application that can be trained on any set of labeled images. Here your network will be learning about flowers and end up as a command line application. But, what you do with your new skills depends on your imagination and effort in building a dataset. For example, imagine an app where you take a picture of a car, it tells you what the make and model is, then looks up information about it. Go build your own dataset and make something new.</p>\n",
    "<p>First up is importing the packages you'll need. It's good practice to keep all the imports at the beginning of your code. As you work through this notebook and find you need to import a package, make sure to add the import up here.</p>\n"
   ]
  },
  {
   "cell_type": "code",
   "execution_count": null,
   "metadata": {},
   "outputs": [],
   "source": [
    "\n",
    "# Imports here\n",
    "%matplotlib inline\n",
    "%config InlineBackend.figure_format = 'retina'\n",
    "\n",
    "import matplotlib.pyplot as plt\n",
    "\n",
    "import numpy as np\n",
    "import torch\n",
    "from torch import nn\n",
    "from torch import optim\n",
    "import torch.nn.functional as F\n",
    "from torchvision import datasets, transforms, models\n",
    "from workspace_utils import active_session\n",
    "from collections import OrderedDict \n",
    "from PIL import Image\n",
    "import json\n",
    "\n"
   ]
  },
  {
   "cell_type": "markdown",
   "metadata": {},
   "source": [
    "\n",
    "<h2 id=\"Load-the-data\">Load the data<a class=\"anchor-link\" href=\"#Load-the-data\">¶</a></h2><p>Here you'll use <code>torchvision</code> to load the data (<a href=\"http://pytorch.org/docs/0.3.0/torchvision/index.html\">documentation</a>). The data should be included alongside this notebook, otherwise you can <a href=\"https://s3.amazonaws.com/content.udacity-data.com/nd089/flower_data.tar.gz\">download it here</a>. The dataset is split into three parts, training, validation, and testing. For the training, you'll want to apply transformations such as random scaling, cropping, and flipping. This will help the network generalize leading to better performance. You'll also need to make sure the input data is resized to 224x224 pixels as required by the pre-trained networks.</p>\n",
    "<p>The validation and testing sets are used to measure the model's performance on data it hasn't seen yet. For this you don't want any scaling or rotation transformations, but you'll need to resize then crop the images to the appropriate size.</p>\n",
    "<p>The pre-trained networks you'll use were trained on the ImageNet dataset where each color channel was normalized separately. For all three sets you'll need to normalize the means and standard deviations of the images to what the network expects. For the means, it's <code>[0.485, 0.456, 0.406]</code> and for the standard deviations <code>[0.229, 0.224, 0.225]</code>, calculated from the ImageNet images.  These values will shift each color channel to be centered at 0 and range from -1 to 1.</p>\n"
   ]
  },
  {
   "cell_type": "code",
   "execution_count": null,
   "metadata": {},
   "outputs": [],
   "source": [
    "\n",
    "data_dir = 'flowers'\n",
    "train_dir = data_dir + '/train'\n",
    "valid_dir = data_dir + '/valid'\n",
    "test_dir = data_dir + '/test'\n",
    "\n"
   ]
  },
  {
   "cell_type": "code",
   "execution_count": null,
   "metadata": {},
   "outputs": [],
   "source": [
    "\n",
    "# TODO: Define your transforms for the training, validation, and testing sets\n",
    "train_transforms = transforms.Compose([transforms.RandomRotation(30),\n",
    "                                       transforms.RandomResizedCrop(224),\n",
    "                                       transforms.RandomHorizontalFlip(),\n",
    "                                       transforms.ToTensor(),\n",
    "                                       transforms.Normalize([0.485, 0.456, 0.406], \n",
    "                                                            [0.229, 0.224, 0.225])]) \n",
    "\n",
    "valid_transforms = transforms.Compose([transforms.Resize(256),\n",
    "                                      transforms.CenterCrop(224),\n",
    "                                      transforms.ToTensor(),\n",
    "                                      transforms.Normalize([0.485, 0.456, 0.406], \n",
    "                                                           [0.229, 0.224, 0.225])])\n",
    "\n",
    "test_transforms = transforms.Compose([transforms.Resize(256),\n",
    "                                       transforms.CenterCrop(224),\n",
    "                                       transforms.ToTensor(),\n",
    "                                       transforms.Normalize([0.485, 0.456, 0.406], \n",
    "                                                            [0.229, 0.224, 0.225])]) \n",
    "\n",
    "# TODO: Load the datasets with ImageFolder\n",
    "train_data = datasets.ImageFolder(train_dir, transform=train_transforms)\n",
    "valid_data = datasets.ImageFolder(valid_dir, transform=valid_transforms)\n",
    "test_data = datasets.ImageFolder(test_dir, transform=test_transforms)\n",
    "\n",
    "# TODO: Using the image datasets and the trainforms, define the dataloaders\n",
    "trainloader = torch.utils.data.DataLoader(train_data, batch_size=50, shuffle=True)\n",
    "validloader = torch.utils.data.DataLoader(valid_data, batch_size=25, shuffle = False)\n",
    "testloader = torch.utils.data.DataLoader(test_data, batch_size=25, shuffle = False)\n",
    "\n"
   ]
  },
  {
   "cell_type": "code",
   "execution_count": null,
   "metadata": {},
   "outputs": [],
   "source": [
    "\n",
    "print(f\"trainining data len: {len(train_data)}\")\n",
    "print(f\"validation data len: {len(valid_data)}\")\n",
    "print(f\"test data len: {len(test_data)}\")\n",
    "print(f\"training loader len: {len(trainloader)}\")\n",
    "print(f\"validation loader len: {len(validloader)}\")\n",
    "print(f\"testing loader len: {len(testloader)}\")\n",
    "\n"
   ]
  },
  {
   "cell_type": "markdown",
   "metadata": {},
   "source": [
    "\n",
    "<h3 id=\"Label-mapping\">Label mapping<a class=\"anchor-link\" href=\"#Label-mapping\">¶</a></h3><p>You'll also need to load in a mapping from category label to category name. You can find this in the file <code>cat_to_name.json</code>. It's a JSON object which you can read in with the <a href=\"https://docs.python.org/2/library/json.html\"><code>json</code> module</a>. This will give you a dictionary mapping the integer encoded categories to the actual names of the flowers.</p>\n"
   ]
  },
  {
   "cell_type": "code",
   "execution_count": null,
   "metadata": {},
   "outputs": [],
   "source": [
    "\n",
    "with open('cat_to_name.json', 'r') as f:\n",
    "    cat_to_name = json.load(f)\n",
    "\n"
   ]
  },
  {
   "cell_type": "markdown",
   "metadata": {},
   "source": [
    "\n",
    "<h1 id=\"Building-and-training-the-classifier\">Building and training the classifier<a class=\"anchor-link\" href=\"#Building-and-training-the-classifier\">¶</a></h1><p>Now that the data is ready, it's time to build and train the classifier. As usual, you should use one of the pretrained models from <code>torchvision.models</code> to get the image features. Build and train a new feed-forward classifier using those features.</p>\n",
    "<p>We're going to leave this part up to you. Refer to <a href=\"https://review.udacity.com/#!/rubrics/1663/view\">the rubric</a> for guidance on successfully completing this section. Things you'll need to do:</p>\n",
    "<ul>\n",
    "<li>Load a <a href=\"http://pytorch.org/docs/master/torchvision/models.html\">pre-trained network</a> (If you need a starting point, the VGG networks work great and are straightforward to use)</li>\n",
    "<li>Define a new, untrained feed-forward network as a classifier, using ReLU activations and dropout</li>\n",
    "<li>Train the classifier layers using backpropagation using the pre-trained network to get the features</li>\n",
    "<li>Track the loss and accuracy on the validation set to determine the best hyperparameters</li>\n",
    "</ul>\n",
    "<p>We've left a cell open for you below, but use as many as you need. Our advice is to break the problem up into smaller parts you can run separately. Check that each part is doing what you expect, then move on to the next. You'll likely find that as you work through each part, you'll need to go back and modify your previous code. This is totally normal!</p>\n",
    "<p>When training make sure you're updating only the weights of the feed-forward network. You should be able to get the validation accuracy above 70% if you build everything right. Make sure to try different hyperparameters (learning rate, units in the classifier, epochs, etc) to find the best model. Save those hyperparameters to use as default values in the next part of the project.</p>\n",
    "<p>One last important tip if you're using the workspace to run your code: To avoid having your workspace disconnect during the long-running tasks in this notebook, please read in the earlier page in this lesson called Intro to\n",
    "GPU Workspaces about Keeping Your Session Active. You'll want to include code from the workspace_utils.py module.</p>\n",
    "<p><strong>Note for Workspace users:</strong> If your network is over 1 GB when saved as a checkpoint, there might be issues with saving backups in your workspace. Typically this happens with wide dense layers after the convolutional layers. If your saved checkpoint is larger than 1 GB (you can open a terminal and check with <code>ls -lh</code>), you should reduce the size of your hidden layers and train again.</p>\n"
   ]
  },
  {
   "cell_type": "code",
   "execution_count": null,
   "metadata": {},
   "outputs": [],
   "source": [
    "\n",
    "# Create VGG model, freeze parameter & define classifier\n",
    "def create_model(architecture='vgg'):\n",
    "    \n",
    "    if architecture == 'vgg':\n",
    "        model = models.vgg16(pretrained=True)\n",
    "        n_input = 25088\n",
    "    elif architecture == 'densenet':\n",
    "        model = models.densenet121(pretrained=True)\n",
    "        n_input = 1024\n",
    "    else: \n",
    "        raise Exception(\"Unknown structure. Please use 'vgg' or 'densenet' structure.\")\n",
    "    \n",
    "    # Freeze parameters so we don't backpropagate through them\n",
    "    for param in model.parameters():\n",
    "        param.requires_grad = False\n",
    "    print('Grad parameters freezed.')\n",
    "    \n",
    "    # Define classifier\n",
    "    classifier = nn.Sequential()\n",
    "    classifier.add_module(\"inputs\", nn.Linear(n_input, 4096, bias=True))\n",
    "    classifier.add_module(\"bn1\", nn.BatchNorm1d(4096))\n",
    "    classifier.add_module(\"relu1\", nn.ReLU())\n",
    "    classifier.add_module(\"dropout1\", nn.Dropout(0.5))                         \n",
    "    classifier.add_module(\"hidden_layer1\", nn.Linear(4096, 512))\n",
    "    classifier.add_module(\"bn2\", nn.BatchNorm1d(512))\n",
    "    classifier.add_module(\"relu2\", nn.ReLU())\n",
    "    classifier.add_module(\"dropout2\", nn.Dropout(0.5))                              \n",
    "    classifier.add_module(\"hidden_layer2\", nn.Linear(512, 102, bias=True))\n",
    "    classifier.add_module(\"outputs\", nn.LogSoftmax(dim=1))    \n",
    "    model.classifier = classifier\n",
    "                          \n",
    "    print(f'Model ({architecture}) created.')\n",
    "    \n",
    "    return model\n",
    "\n"
   ]
  },
  {
   "cell_type": "code",
   "execution_count": null,
   "metadata": {},
   "outputs": [],
   "source": [
    "\n",
    "# Get device\n",
    "def get_device():\n",
    "     return torch.device(\"cuda:0\" if torch.cuda.is_available() else \"cpu\")\n",
    "\n"
   ]
  },
  {
   "cell_type": "code",
   "execution_count": null,
   "metadata": {},
   "outputs": [],
   "source": [
    "\n",
    "# Evaluation function\n",
    "def evaluate(model, criterion, loader):\n",
    "    device = get_device()\n",
    "    \n",
    "    #if torch.cuda.is_available() == False:\n",
    "    #    raise Exception('GPU must be available.')\n",
    "    \n",
    "    eval_loss = 0\n",
    "    accuracy = 0\n",
    "    model.eval()\n",
    "    with torch.no_grad():\n",
    "        for inputs, labels in loader:\n",
    "            inputs, labels = inputs.to(device), labels.to(device)\n",
    "            logps = model.forward(inputs)\n",
    "            \n",
    "            batch_loss = criterion(logps, labels)       \n",
    "            eval_loss += batch_loss.item()\n",
    "            \n",
    "            # Calculate accuracy\n",
    "            ps = torch.exp(logps)\n",
    "            top_p, top_class = ps.topk(1, dim=1)\n",
    "            equals = top_class == labels.view(*top_class.shape)\n",
    "            accuracy += torch.mean(equals.type(torch.FloatTensor)).item()\n",
    "    \n",
    "    return eval_loss, accuracy\n",
    "\n"
   ]
  },
  {
   "cell_type": "code",
   "execution_count": null,
   "metadata": {},
   "outputs": [],
   "source": [
    "\n",
    "# Train the model\n",
    "def train(model, criterion, optimizer):\n",
    "    print('Training started...')\n",
    "    \n",
    "    epochs = 10\n",
    "    steps = 0\n",
    "    running_loss = 0\n",
    "    eval_every_step = 25\n",
    "    for epoch in range(epochs):\n",
    "        for inputs, labels in trainloader:\n",
    "            steps += 1\n",
    "            # Move input and label tensors to the default device\n",
    "            inputs, labels = inputs.to(device), labels.to(device)\n",
    "        \n",
    "            optimizer.zero_grad()\n",
    "        \n",
    "            logps = model.forward(inputs)\n",
    "            loss = criterion(logps, labels)\n",
    "            loss.backward()\n",
    "            optimizer.step()\n",
    "\n",
    "            running_loss += loss.item()\n",
    "        \n",
    "            # Validate\n",
    "            if steps % eval_every_step == 0:              \n",
    "                test_loss, accuracy = evaluate(model, criterion, validloader)   \n",
    "                     \n",
    "                # Output\n",
    "                print(f\"Epoch {epoch+1}/{epochs}.. \"\n",
    "                    f\"Train loss: {running_loss/eval_every_step:.3f}.. \"\n",
    "                    f\"Validation loss: {test_loss/len(validloader):.3f}.. \"\n",
    "                    f\"Validation accuracy: {accuracy/len(validloader):.3f}\")                  \n",
    "                \n",
    "                running_loss = 0\n",
    "                model.train()\n",
    "            \n",
    "    print('Training finished.')\n",
    "\n"
   ]
  },
  {
   "cell_type": "code",
   "execution_count": null,
   "metadata": {},
   "outputs": [],
   "source": [
    "\n",
    "#Create & prepare model\n",
    "model = create_model('densenet')\n",
    "criterion = nn.NLLLoss()\n",
    "optimizer = optim.Adam(model.classifier.parameters(), lr=0.001)\n",
    "device = get_device()\n",
    "model.to(device)\n",
    "\n",
    "print(model)\n",
    "\n"
   ]
  },
  {
   "cell_type": "code",
   "execution_count": null,
   "metadata": {},
   "outputs": [],
   "source": [
    "\n",
    "#Start training\n",
    "with active_session():  \n",
    "    train(model, criterion, optimizer)\n",
    "\n"
   ]
  },
  {
   "cell_type": "markdown",
   "metadata": {},
   "source": [
    "\n",
    "<h2 id=\"Testing-your-network\">Testing your network<a class=\"anchor-link\" href=\"#Testing-your-network\">¶</a></h2><p>It's good practice to test your trained network on test data, images the network has never seen either in training or validation. This will give you a good estimate for the model's performance on completely new images. Run the test images through the network and measure the accuracy, the same way you did validation. You should be able to reach around 70% accuracy on the test set if the model has been trained well.</p>\n"
   ]
  },
  {
   "cell_type": "code",
   "execution_count": null,
   "metadata": {},
   "outputs": [],
   "source": [
    "\n",
    "test_loss, accuracy = evaluate(model, criterion, testloader)\n",
    "\n",
    "print(f\"Testing loss: {test_loss/len(testloader):.3f}.. \"\n",
    "      f\"Testing accuracy: {accuracy/len(testloader):.3f}\")    \n",
    "\n"
   ]
  },
  {
   "cell_type": "markdown",
   "metadata": {},
   "source": [
    "\n",
    "<h2 id=\"Save-the-checkpoint\">Save the checkpoint<a class=\"anchor-link\" href=\"#Save-the-checkpoint\">¶</a></h2><p>Now that your network is trained, save the model so you can load it later for making predictions. You probably want to save other things such as the mapping of classes to indices which you get from one of the image datasets: <code>image_datasets['train'].class_to_idx</code>. You can attach this to the model as an attribute which makes inference easier later on.</p>\n",
    "<p><code>model.class_to_idx = image_datasets['train'].class_to_idx</code></p>\n",
    "<p>Remember that you'll want to completely rebuild the model later so you can use it for inference. Make sure to include any information you need in the checkpoint. If you want to load the model and keep training, you'll want to save the number of epochs as well as the optimizer state, <code>optimizer.state_dict</code>. You'll likely want to use this trained model in the next part of the project, so best to save it now.</p>\n"
   ]
  },
  {
   "cell_type": "code",
   "execution_count": null,
   "metadata": {},
   "outputs": [],
   "source": [
    "\n",
    "# TODO: Save the checkpoint \n",
    "\n",
    "def save_model(model, architecture):\n",
    "    print('Model checkpoint is saving...')\n",
    "    model.class_to_idx = train_data.class_to_idx\n",
    "    checkpoint = {'architecture': architecture,\n",
    "                  'classifier': model.classifier,\n",
    "                  'state_dict': model.state_dict(),\n",
    "                  'optimizer': optimizer.state_dict(),\n",
    "                  'class_to_idx': model.class_to_idx}\n",
    "    torch.save(checkpoint, 'checkpoint-10e.pth')\n",
    "    print('Model checkpoint saved.')\n",
    "\n"
   ]
  },
  {
   "cell_type": "code",
   "execution_count": null,
   "metadata": {},
   "outputs": [],
   "source": [
    "\n",
    "save_model(model, 'densenet')\n",
    "\n"
   ]
  },
  {
   "cell_type": "markdown",
   "metadata": {},
   "source": [
    "\n",
    "<h2 id=\"Loading-the-checkpoint\">Loading the checkpoint<a class=\"anchor-link\" href=\"#Loading-the-checkpoint\">¶</a></h2><p>At this point it's good to write a function that can load a checkpoint and rebuild the model. That way you can come back to this project and keep working on it without having to retrain the network.</p>\n"
   ]
  },
  {
   "cell_type": "code",
   "execution_count": null,
   "metadata": {},
   "outputs": [],
   "source": [
    "\n",
    "# TODO: Write a function that loads a checkpoint and rebuilds the model\n",
    "def load_model():\n",
    "    \n",
    "    print('Model is loading...')\n",
    "    \n",
    "    #Perform load with the map_location parameter\n",
    "    if torch.cuda.is_available():\n",
    "        map_location=lambda storage, loc: storage.cuda()\n",
    "    else:\n",
    "        map_location='cpu'\n",
    "\n",
    "    checkpoint = torch.load('checkpoint.pth', map_location=map_location)\n",
    "    \n",
    "    # Create pretrained model (architecture dependent)\n",
    "    architecture = checkpoint['architecture']\n",
    "    if architecture == 'vgg':\n",
    "        model = models.vgg16(pretrained=True)\n",
    "    elif architecture == 'densenet':\n",
    "        model = models.densenet121(pretrained=True)\n",
    "    else:\n",
    "        raise Exception(f'Unknown architecture {architecture}. Cannot restore the model.')\n",
    "    \n",
    "    # Update model\n",
    "    model.classifier = checkpoint['classifier']\n",
    "    model.class_to_idx = checkpoint['class_to_idx']\n",
    "    model.load_state_dict(checkpoint['state_dict'])   \n",
    "    \n",
    "    # Freeze parameters \n",
    "    for param in model.parameters():\n",
    "        param.requires_grad = False\n",
    "   \n",
    "    model.eval()\n",
    "\n",
    "    print('Model loaded from checkpoint.')\n",
    "    \n",
    "    return model\n",
    "\n"
   ]
  },
  {
   "cell_type": "code",
   "execution_count": null,
   "metadata": {},
   "outputs": [],
   "source": [
    "\n",
    "model = load_model()\n",
    "model.to(get_device())\n",
    "\n"
   ]
  },
  {
   "cell_type": "code",
   "execution_count": null,
   "metadata": {},
   "outputs": [],
   "source": [
    "\n",
    "# Test loaded model\n",
    "criterion = nn.NLLLoss()\n",
    "test_loss, accuracy = evaluate(model, criterion, testloader)\n",
    "\n",
    "print(f\"Testing loss: {test_loss/len(testloader):.3f}.. \"\n",
    "      f\"Testing accuracy: {accuracy/len(testloader):.3f}\")  \n",
    "\n"
   ]
  },
  {
   "cell_type": "markdown",
   "metadata": {},
   "source": [
    "\n",
    "<h1 id=\"Inference-for-classification\">Inference for classification<a class=\"anchor-link\" href=\"#Inference-for-classification\">¶</a></h1><p>Now you'll write a function to use a trained network for inference. That is, you'll pass an image into the network and predict the class of the flower in the image. Write a function called <code>predict</code> that takes an image and a model, then returns the top $K$ most likely classes along with the probabilities. It should look like</p>\n",
    "<div class=\"highlight\"><pre><span></span><span class=\"n\">probs</span><span class=\"p\">,</span> <span class=\"n\">classes</span> <span class=\"o\">=</span> <span class=\"n\">predict</span><span class=\"p\">(</span><span class=\"n\">image_path</span><span class=\"p\">,</span> <span class=\"n\">model</span><span class=\"p\">)</span>\n",
    "<span class=\"k\">print</span><span class=\"p\">(</span><span class=\"n\">probs</span><span class=\"p\">)</span>\n",
    "<span class=\"k\">print</span><span class=\"p\">(</span><span class=\"n\">classes</span><span class=\"p\">)</span>\n",
    "<span class=\"o\">&gt;</span> <span class=\"p\">[</span> <span class=\"mf\">0.01558163</span>  <span class=\"mf\">0.01541934</span>  <span class=\"mf\">0.01452626</span>  <span class=\"mf\">0.01443549</span>  <span class=\"mf\">0.01407339</span><span class=\"p\">]</span>\n",
    "<span class=\"o\">&gt;</span> <span class=\"p\">[</span><span class=\"s1\">'70'</span><span class=\"p\">,</span> <span class=\"s1\">'3'</span><span class=\"p\">,</span> <span class=\"s1\">'45'</span><span class=\"p\">,</span> <span class=\"s1\">'62'</span><span class=\"p\">,</span> <span class=\"s1\">'55'</span><span class=\"p\">]</span>\n",
    "</pre></div>\n",
    "<p>First you'll need to handle processing the input image such that it can be used in your network.</p>\n",
    "<h2 id=\"Image-Preprocessing\">Image Preprocessing<a class=\"anchor-link\" href=\"#Image-Preprocessing\">¶</a></h2><p>You'll want to use <code>PIL</code> to load the image (<a href=\"https://pillow.readthedocs.io/en/latest/reference/Image.html\">documentation</a>). It's best to write a function that preprocesses the image so it can be used as input for the model. This function should process the images in the same manner used for training.</p>\n",
    "<p>First, resize the images where the shortest side is 256 pixels, keeping the aspect ratio. This can be done with the <a href=\"http://pillow.readthedocs.io/en/3.1.x/reference/Image.html#PIL.Image.Image.thumbnail\"><code>thumbnail</code></a> or <a href=\"http://pillow.readthedocs.io/en/3.1.x/reference/Image.html#PIL.Image.Image.thumbnail\"><code>resize</code></a> methods. Then you'll need to crop out the center 224x224 portion of the image.</p>\n",
    "<p>Color channels of images are typically encoded as integers 0-255, but the model expected floats 0-1. You'll need to convert the values. It's easiest with a Numpy array, which you can get from a PIL image like so <code>np_image = np.array(pil_image)</code>.</p>\n",
    "<p>As before, the network expects the images to be normalized in a specific way. For the means, it's <code>[0.485, 0.456, 0.406]</code> and for the standard deviations <code>[0.229, 0.224, 0.225]</code>. You'll want to subtract the means from each color channel, then divide by the standard deviation.</p>\n",
    "<p>And finally, PyTorch expects the color channel to be the first dimension but it's the third dimension in the PIL image and Numpy array. You can reorder dimensions using <a href=\"https://docs.scipy.org/doc/numpy-1.13.0/reference/generated/numpy.ndarray.transpose.html\"><code>ndarray.transpose</code></a>. The color channel needs to be first and retain the order of the other two dimensions.</p>\n"
   ]
  },
  {
   "cell_type": "code",
   "execution_count": null,
   "metadata": {},
   "outputs": [],
   "source": [
    "\n",
    "def process_image(image):\n",
    "    ''' Scales, crops, and normalizes a PIL image for a PyTorch model,\n",
    "        returns an Numpy array\n",
    "    '''\n",
    "    \n",
    "    # TODO: Process a PIL image for use in a PyTorch model\n",
    "  \n",
    "    preprocess = transforms.Compose([\n",
    "                               transforms.Resize(256),\n",
    "                               transforms.CenterCrop(224),\n",
    "                               transforms.ToTensor(),\n",
    "                               transforms.Normalize(\n",
    "                                               [0.485, 0.456, 0.406],\n",
    "                                               [0.229, 0.224, 0.225])])\n",
    "    \n",
    "    img_pil = Image.open(image)\n",
    "    img_tensor = preprocess(img_pil)\n",
    "    \n",
    "    return img_pil, img_tensor\n",
    "\n"
   ]
  },
  {
   "cell_type": "markdown",
   "metadata": {},
   "source": [
    "\n",
    "<p>To check your work, the function below converts a PyTorch tensor and displays it in the notebook. If your <code>process_image</code> function works, running the output through this function should return the original image (except for the cropped out portions).</p>\n"
   ]
  },
  {
   "cell_type": "code",
   "execution_count": null,
   "metadata": {},
   "outputs": [],
   "source": [
    "\n",
    "def imshow(image, ax=None, title=None):\n",
    "    \"\"\"Imshow for Tensor.\"\"\"\n",
    "    if ax is None:\n",
    "        fig, ax = plt.subplots()\n",
    "    \n",
    "    # PyTorch tensors assume the color channel is the first dimension\n",
    "    # but matplotlib assumes is the third dimension\n",
    "    image = image.numpy().transpose((1, 2, 0))\n",
    "    \n",
    "    # Undo preprocessing\n",
    "    mean = np.array([0.485, 0.456, 0.406])\n",
    "    std = np.array([0.229, 0.224, 0.225])\n",
    "    image = std * image + mean\n",
    "    \n",
    "    # Image needs to be clipped between 0 and 1 or it looks like noise when displayed\n",
    "    image = np.clip(image, 0, 1)\n",
    "    \n",
    "    ax.imshow(image)\n",
    "    \n",
    "    return ax\n",
    "\n"
   ]
  },
  {
   "cell_type": "code",
   "execution_count": null,
   "metadata": {},
   "outputs": [],
   "source": [
    "\n",
    "img_path = \"flowers/test/17/image_03830.jpg\"\n",
    "img_orig, img_tensor = process_image(img_path)\n",
    "\n"
   ]
  },
  {
   "cell_type": "code",
   "execution_count": null,
   "metadata": {},
   "outputs": [],
   "source": [
    "\n",
    "img_orig\n",
    "\n"
   ]
  },
  {
   "cell_type": "code",
   "execution_count": null,
   "metadata": {},
   "outputs": [],
   "source": [
    "\n",
    "imshow(img_tensor)\n",
    "\n"
   ]
  },
  {
   "cell_type": "markdown",
   "metadata": {},
   "source": [
    "\n",
    "<h2 id=\"Class-Prediction\">Class Prediction<a class=\"anchor-link\" href=\"#Class-Prediction\">¶</a></h2><p>Once you can get images in the correct format, it's time to write a function for making predictions with your model. A common practice is to predict the top 5 or so (usually called top-$K$) most probable classes. You'll want to calculate the class probabilities then find the $K$ largest values.</p>\n",
    "<p>To get the top $K$ largest values in a tensor use <a href=\"http://pytorch.org/docs/master/torch.html#torch.topk\"><code>x.topk(k)</code></a>. This method returns both the highest <code>k</code> probabilities and the indices of those probabilities corresponding to the classes. You need to convert from these indices to the actual class labels using <code>class_to_idx</code> which hopefully you added to the model or from an <code>ImageFolder</code> you used to load the data (<a href=\"#Save-the-checkpoint\">see here</a>). Make sure to invert the dictionary so you get a mapping from index to class as well.</p>\n",
    "<p>Again, this method should take a path to an image and a model checkpoint, then return the probabilities and classes.</p>\n",
    "<div class=\"highlight\"><pre><span></span><span class=\"n\">probs</span><span class=\"p\">,</span> <span class=\"n\">classes</span> <span class=\"o\">=</span> <span class=\"n\">predict</span><span class=\"p\">(</span><span class=\"n\">image_path</span><span class=\"p\">,</span> <span class=\"n\">model</span><span class=\"p\">)</span>\n",
    "<span class=\"k\">print</span><span class=\"p\">(</span><span class=\"n\">probs</span><span class=\"p\">)</span>\n",
    "<span class=\"k\">print</span><span class=\"p\">(</span><span class=\"n\">classes</span><span class=\"p\">)</span>\n",
    "<span class=\"o\">&gt;</span> <span class=\"p\">[</span> <span class=\"mf\">0.01558163</span>  <span class=\"mf\">0.01541934</span>  <span class=\"mf\">0.01452626</span>  <span class=\"mf\">0.01443549</span>  <span class=\"mf\">0.01407339</span><span class=\"p\">]</span>\n",
    "<span class=\"o\">&gt;</span> <span class=\"p\">[</span><span class=\"s1\">'70'</span><span class=\"p\">,</span> <span class=\"s1\">'3'</span><span class=\"p\">,</span> <span class=\"s1\">'45'</span><span class=\"p\">,</span> <span class=\"s1\">'62'</span><span class=\"p\">,</span> <span class=\"s1\">'55'</span><span class=\"p\">]</span>\n",
    "</pre></div>\n"
   ]
  },
  {
   "cell_type": "code",
   "execution_count": null,
   "metadata": {},
   "outputs": [],
   "source": [
    "\n",
    "def predict(image_path, model, topk=5):\n",
    "    ''' Predict the class (or classes) of an image using a trained deep learning model.\n",
    "    '''\n",
    "    model.class_to_idx = train_data.class_to_idx\n",
    "    img_tensor = process_image(image_path) \n",
    "    reshaped = img_tensor[1].unsqueeze(0)\n",
    "\n",
    "    # handle device\n",
    "    device = get_device()\n",
    "    if (str(device) == 'cpu'):\n",
    "        with torch.no_grad():\n",
    "            output=model.forward(reshaped)\n",
    "    else:\n",
    "        with torch.no_grad():\n",
    "            output=model.forward(reshaped.cuda())\n",
    "    \n",
    "    ps = torch.exp(output)\n",
    "    probs, classes = ps.topk(topk, dim=1)\n",
    "    \n",
    "    # Invert classes\n",
    "    inverted = {v: k for k, v in model.class_to_idx.items()}\n",
    "    classes2 = [inverted[c] for c in classes[0].cpu().numpy()]\n",
    "\n",
    "    return probs, classes2\n",
    "\n"
   ]
  },
  {
   "cell_type": "code",
   "execution_count": null,
   "metadata": {},
   "outputs": [],
   "source": [
    "\n",
    "probs, classes = predict(img_path, model)\n",
    "print(probs)\n",
    "print(classes)\n",
    "\n"
   ]
  },
  {
   "cell_type": "markdown",
   "metadata": {},
   "source": [
    "\n",
    "<h2 id=\"Sanity-Checking\">Sanity Checking<a class=\"anchor-link\" href=\"#Sanity-Checking\">¶</a></h2><p>Now that you can use a trained model for predictions, check to make sure it makes sense. Even if the testing accuracy is high, it's always good to check that there aren't obvious bugs. Use <code>matplotlib</code> to plot the probabilities for the top 5 classes as a bar graph, along with the input image. It should look like this:</p>\n",
    "<p><img src=\"assets/inference_example.png\" width=\"300px\"/></p>\n",
    "<p>You can convert from the class integer encoding to actual flower names with the <code>cat_to_name.json</code> file (should have been loaded earlier in the notebook). To show a PyTorch tensor as an image, use the <code>imshow</code> function defined above.</p>\n"
   ]
  },
  {
   "cell_type": "code",
   "execution_count": null,
   "metadata": {},
   "outputs": [],
   "source": [
    "\n",
    "def check_sanity(image_path, model):\n",
    "    prob, classes = predict(image_path, model)\n",
    "    max_index = np.argmax(prob)\n",
    "    max_probability = prob[max_index]\n",
    "    label = classes[max_index]\n",
    "\n",
    "    fig = plt.figure(figsize=(6,6))\n",
    "    ax1 = plt.subplot2grid((15,9), (0,0), colspan=9, rowspan=9)\n",
    "    ax2 = plt.subplot2grid((15,9), (9,2), colspan=5, rowspan=10)\n",
    "\n",
    "    #image = Image.open(img_path)\n",
    "    img_orig, img_tensor = process_image(image_path)\n",
    "    names = [cat_to_name[c] for c in classes]\n",
    "    \n",
    "    ax1.axis('off')\n",
    "    ax1.set_title(cat_to_name[label])\n",
    "    ax1.imshow(img_orig)\n",
    "    \n",
    "    y_pos = np.arange(5)\n",
    "    ax2.set_yticks(y_pos)\n",
    "    ax2.set_yticklabels(names)\n",
    "    ax2.set_xlabel('Probability')\n",
    "    ax2.invert_yaxis()\n",
    "    ax2.barh(y_pos, prob[0], xerr=0, align='center', color='green')\n",
    "\n",
    "    plt.show()\n",
    "\n"
   ]
  },
  {
   "cell_type": "code",
   "execution_count": null,
   "metadata": {},
   "outputs": [],
   "source": [
    "\n",
    "check_sanity(img_path, model)\n",
    "\n"
   ]
  }
 ],
 "metadata": {
  "kernelspec": {
   "display_name": "Python 3",
   "language": "python",
   "name": "python3"
  },
  "language_info": {
   "codemirror_mode": {
    "name": "ipython",
    "version": 3
   },
   "file_extension": ".py",
   "mimetype": "text/x-python",
   "name": "python",
   "nbconvert_exporter": "python",
   "pygments_lexer": "ipython3",
   "version": "3.6.8"
  }
 },
 "nbformat": 4,
 "nbformat_minor": 1
}
